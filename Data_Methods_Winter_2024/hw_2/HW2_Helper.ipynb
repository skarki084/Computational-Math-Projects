{
 "cells": [
  {
   "cell_type": "markdown",
   "metadata": {
    "id": "-4kXuzBqLvMG"
   },
   "source": [
    "The following code helps you to load and visualize the data (skeleton) in 3D xyz coordinates.\n",
    " "
   ]
  },
  {
   "cell_type": "code",
   "execution_count": 38,
   "metadata": {},
   "outputs": [
    {
     "name": "stdout",
     "output_type": "stream",
     "text": [
      "(38, 3, 100)\n"
     ]
    },
    {
     "name": "stderr",
     "output_type": "stream",
     "text": [
      "C:\\Users\\samip\\AppData\\Local\\Temp\\ipykernel_22520\\3749769116.py:6: MatplotlibDeprecationWarning: The seaborn styles shipped by Matplotlib are deprecated since 3.6, as they no longer correspond to the styles shipped by seaborn. However, they will remain available as 'seaborn-v0_8-<style>'. Alternatively, directly use the seaborn API instead.\n",
      "  plt.style.use('seaborn-poster')\n"
     ]
    }
   ],
   "source": [
    "import numpy as np\n",
    "from mpl_toolkits import mplot3d\n",
    "import matplotlib.pyplot as plt\n",
    "import matplotlib.animation as animation\n",
    "import os\n",
    "plt.style.use('seaborn-poster')\n",
    "\n",
    "#filename and folder to plot\n",
    "fname= \"jumping_1\"\n",
    "folder = \"hw2data/train/\"\n",
    "\n",
    "vals = np.load(folder+fname+\".npy\")\n",
    "xyz = np.reshape(vals[:,:], (38,3,-1))\n",
    "\n",
    "\n",
    "print(xyz.shape)\n",
    "\n",
    "#define the root joint and scaling of the values\n",
    "r = 1000\n",
    "xroot, yroot, zroot = xyz[0,0,0], xyz[0,0,1], xyz[0,0,2]\n",
    "\n",
    "#define the connections between the joints (skeleton) \n",
    "I = np.array(\n",
    "        [1, 2, 3, 4, 5, 6, 1, 8, 9, 10, 11, 12, 1, 14, 15, 16, 17, 18, 19, 16, 21, 22, 23, 25, 26, 24, 28, 16, 30, 31,\n",
    "         32, 33, 34, 35, 33, 37]) - 1\n",
    "J = np.array(\n",
    "        [2, 3, 4, 5, 6, 7, 8, 9, 10, 11, 12, 13, 14, 15, 16, 17, 18, 19, 20, 21, 22, 23, 24, 26, 27, 28, 29, 30, 31, 32,\n",
    "         33, 34, 35, 36, 37, 38]) - 1\n"
   ]
  },
  {
   "cell_type": "code",
   "execution_count": 42,
   "metadata": {
    "scrolled": false
   },
   "outputs": [
    {
     "name": "stdout",
     "output_type": "stream",
     "text": [
      "[[ 2.56624800e-04 -1.10068824e-02 -2.22715306e+00]\n",
      " [ 2.56624800e-04 -1.10068824e-02 -2.22715306e+00]\n",
      " [-3.73661342e+01 -1.19306604e+02 -1.27545953e+02]\n",
      " [-3.99120114e+01 -1.21837703e+02 -6.59161850e+02]\n",
      " [-1.34763044e+02 -7.14346327e+01 -1.15804639e+03]\n",
      " [-3.74982028e+01 -1.88098562e+02 -1.19173302e+03]\n",
      " [ 1.36003080e+01 -2.46232143e+02 -1.18314047e+03]\n",
      " [ 2.56624800e-04 -1.10068824e-02 -2.22715306e+00]\n",
      " [ 1.02430923e+02  6.21491161e+01 -1.29485876e+02]\n",
      " [ 1.24984206e+02  3.21269857e+01 -6.59751674e+02]\n",
      " [ 7.42816417e+01  1.24097972e+02 -1.15369733e+03]\n",
      " [ 1.89987130e+02  2.77137019e+01 -1.19753925e+03]\n",
      " [ 2.48307015e+02 -2.37279618e+01 -1.19033599e+03]\n",
      " [ 5.44490787e-02 -5.30025255e-02 -2.25242547e+00]\n",
      " [-7.16934248e+00  5.76547308e-01  1.41725496e+02]\n",
      " [-1.21636203e+01 -2.59347257e+00  2.86163880e+02]\n",
      " [-1.21646349e+01 -2.61257099e+00  2.86153357e+02]\n",
      " [-3.23695119e+01 -1.86041247e+01  3.93293546e+02]\n",
      " [-3.40518543e+01 -2.49871027e+01  5.02661001e+02]\n",
      " [-1.66371808e+01 -2.94389670e+01  6.15088520e+02]\n",
      " [-1.22569475e+01 -2.29444079e+00  2.86290481e+02]\n",
      " [-1.79383786e+02 -1.88609866e+02  3.40703510e+02]\n",
      " [-1.76100542e+02 -1.82911539e+02  2.07947957e-01]\n",
      " [-1.44648878e+02 -2.54264908e+02 -2.21358648e+02]\n",
      " [-1.44449339e+02 -2.54727136e+02 -2.22829233e+02]\n",
      " [-1.62841577e+02 -2.69921220e+02 -2.62285483e+02]\n",
      " [-1.75603898e+02 -2.78356278e+02 -2.96319615e+02]\n",
      " [-1.44779211e+02 -2.54194450e+02 -2.21399839e+02]\n",
      " [-1.42187564e+02 -2.58886436e+02 -2.74707091e+02]\n",
      " [-1.20134148e+01 -2.30146697e+00  2.85724519e+02]\n",
      " [ 1.22503595e+02  2.01042736e+02  3.47397474e+02]\n",
      " [ 1.39754126e+02  2.44490834e+02 -1.33754094e+00]\n",
      " [ 2.34242444e+02  2.12221992e+02 -2.14465812e+02]\n",
      " [ 2.34242444e+02  2.12221992e+02 -2.14465812e+02]\n",
      " [ 2.72744058e+02  2.06516844e+02 -2.47620297e+02]\n",
      " [ 3.00186301e+02  2.01016409e+02 -2.77882988e+02]\n",
      " [ 2.34545438e+02  2.12380196e+02 -2.15971409e+02]\n",
      " [ 2.56822565e+02  1.87011737e+02 -2.64582605e+02]]\n",
      "(114, 100)\n",
      "[ 2.56624800e-04 -1.10068824e-02 -2.22715306e+00  2.56624800e-04\n",
      " -1.10068824e-02 -2.22715306e+00 -3.73661342e+01 -1.19306604e+02\n",
      " -1.27545953e+02 -3.99120114e+01 -1.21837703e+02 -6.59161850e+02\n",
      " -1.34763044e+02 -7.14346327e+01 -1.15804639e+03 -3.74982028e+01\n",
      " -1.88098562e+02 -1.19173302e+03  1.36003080e+01 -2.46232143e+02\n",
      " -1.18314047e+03  2.56624800e-04 -1.10068824e-02 -2.22715306e+00\n",
      "  1.02430923e+02  6.21491161e+01 -1.29485876e+02  1.24984206e+02\n",
      "  3.21269857e+01 -6.59751674e+02  7.42816417e+01  1.24097972e+02\n",
      " -1.15369733e+03  1.89987130e+02  2.77137019e+01 -1.19753925e+03\n",
      "  2.48307015e+02 -2.37279618e+01 -1.19033599e+03  5.44490787e-02\n",
      " -5.30025255e-02 -2.25242547e+00 -7.16934248e+00  5.76547308e-01\n",
      "  1.41725496e+02 -1.21636203e+01 -2.59347257e+00  2.86163880e+02\n",
      " -1.21646349e+01 -2.61257099e+00  2.86153357e+02 -3.23695119e+01\n",
      " -1.86041247e+01  3.93293546e+02 -3.40518543e+01 -2.49871027e+01\n",
      "  5.02661001e+02 -1.66371808e+01 -2.94389670e+01  6.15088520e+02\n",
      " -1.22569475e+01 -2.29444079e+00  2.86290481e+02 -1.79383786e+02\n",
      " -1.88609866e+02  3.40703510e+02 -1.76100542e+02 -1.82911539e+02\n",
      "  2.07947957e-01 -1.44648878e+02 -2.54264908e+02 -2.21358648e+02\n",
      " -1.44449339e+02 -2.54727136e+02 -2.22829233e+02 -1.62841577e+02\n",
      " -2.69921220e+02 -2.62285483e+02 -1.75603898e+02 -2.78356278e+02\n",
      " -2.96319615e+02 -1.44779211e+02 -2.54194450e+02 -2.21399839e+02\n",
      " -1.42187564e+02 -2.58886436e+02 -2.74707091e+02 -1.20134148e+01\n",
      " -2.30146697e+00  2.85724519e+02  1.22503595e+02  2.01042736e+02\n",
      "  3.47397474e+02  1.39754126e+02  2.44490834e+02 -1.33754094e+00\n",
      "  2.34242444e+02  2.12221992e+02 -2.14465812e+02  2.34242444e+02\n",
      "  2.12221992e+02 -2.14465812e+02  2.72744058e+02  2.06516844e+02\n",
      " -2.47620297e+02  3.00186301e+02  2.01016409e+02 -2.77882988e+02\n",
      "  2.34545438e+02  2.12380196e+02 -2.15971409e+02  2.56822565e+02\n",
      "  1.87011737e+02 -2.64582605e+02]\n"
     ]
    }
   ],
   "source": [
    "print(xyz[:,:,0])\n",
    "print(np.shape(vals))\n",
    "print(vals[:,0])"
   ]
  },
  {
   "cell_type": "code",
   "execution_count": 5,
   "metadata": {
    "scrolled": false
   },
   "outputs": [],
   "source": [
    "# plot the skeleton accroding to joints (each plot is png image in anim folder)\n",
    "\n",
    "for tind in range(1,xyz.shape[2]):\n",
    "    \n",
    "    fig = plt.figure(figsize = (10,10))\n",
    "    ax = plt.axes(projection='3d')\n",
    "    for ijind in range(0,I.shape[0]):\n",
    "        xline = np.array([xyz[I[ijind],0,tind], xyz[J[ijind],0,tind]])\n",
    "        yline = np.array([xyz[I[ijind],1,tind], xyz[J[ijind],1,tind]])\n",
    "        zline = np.array([xyz[I[ijind],2,tind], xyz[J[ijind],2,tind]])\n",
    "        # use plot if you'd like to plot skeleton with lines\n",
    "        ax.plot(xline,yline,zline)\n",
    "    \n",
    "    # use scatter if you'd like to plot all points without lines \n",
    "    # ax.scatter(xyz[:,0,tind],xyz[:,1,tind],xyz[:,2,tind], c = 'r', s = 50)   \n",
    "\n",
    "    ax.set_xlim([-r+xroot, r+xroot])\n",
    "    ax.set_zlim([-r+zroot, r+zroot])\n",
    "    ax.set_ylim([-r+yroot, r+yroot])\n",
    "    \n",
    "    plt.savefig('anim/'+f\"{tind}.png\")\n",
    "    plt.close()\n",
    "\n",
    "# when plotting a single sample (the skeleton can simply be plotted without saving an image)\n",
    "#     plt.draw()\n",
    "#     plt.pause(.001)\n",
    "#     plt.show()\n",
    "\n",
    " \n",
    "    \n",
    "# save the animated plot as a gif in anim folder \n",
    "from PIL import Image\n",
    "\n",
    "images = [Image.open('anim/'+f\"{n}.png\") for n in range(1,xyz.shape[2])]\n",
    "images[0].save('anim/'+fname+'.gif', save_all=True, append_images=images[1:], duration=30, loop=0) \n",
    "\n",
    "# remove ploted png images\n",
    "for n in range(1,xyz.shape[2]):\n",
    "    os.remove('anim/'+f\"{n}.png\")\n",
    "\n",
    "\n",
    "\n"
   ]
  },
  {
   "cell_type": "code",
   "execution_count": 2,
   "metadata": {},
   "outputs": [
    {
     "name": "stdout",
     "output_type": "stream",
     "text": [
      "1000\n"
     ]
    }
   ],
   "source": [
    "print(r)"
   ]
  },
  {
   "cell_type": "code",
   "execution_count": 13,
   "metadata": {},
   "outputs": [
    {
     "name": "stdout",
     "output_type": "stream",
     "text": [
      "(38, 3, 100)\n"
     ]
    }
   ],
   "source": [
    "print(np.shape(xyz))"
   ]
  },
  {
   "cell_type": "code",
   "execution_count": 6,
   "metadata": {},
   "outputs": [],
   "source": [
    "#Here is how to save a single image. The xyz variable is the data you need. It is a 38 by 3 array with the xyz coordinates it plots\n",
    "\n",
    "for tind in range(1,2):\n",
    "    \n",
    "    fig = plt.figure(figsize = (10,10))\n",
    "    ax = plt.axes(projection='3d')\n",
    "    for ijind in range(0,I.shape[0]):\n",
    "        xline = np.array([xyz[I[ijind],0,tind], xyz[J[ijind],0,tind]])\n",
    "        yline = np.array([xyz[I[ijind],1,tind], xyz[J[ijind],1,tind]])\n",
    "        zline = np.array([xyz[I[ijind],2,tind], xyz[J[ijind],2,tind]])\n",
    "        # use plot if you'd like to plot skeleton with lines\n",
    "        ax.plot(xline,yline,zline)\n",
    "    \n",
    "    # use scatter if you'd like to plot all points without lines \n",
    "    # ax.scatter(xyz[:,0,tind],xyz[:,1,tind],xyz[:,2,tind], c = 'r', s = 50)   \n",
    "\n",
    "    ax.set_xlim([-r+xroot, r+xroot])\n",
    "    ax.set_zlim([-r+zroot, r+zroot])\n",
    "    ax.set_ylim([-r+yroot, r+yroot])\n",
    "    \n",
    "    plt.savefig('anim/'+f\"{tind}.png\")#where do you want to save the image\n",
    "    plt.close()"
   ]
  },
  {
   "cell_type": "markdown",
   "metadata": {},
   "source": [
    "Below, I will figure out how to plot the PC modes in the same way I make plots for the actual training data"
   ]
  },
  {
   "cell_type": "code",
   "execution_count": 46,
   "metadata": {},
   "outputs": [],
   "source": [
    "import numpy as np\n",
    "from mpl_toolkits import mplot3d\n",
    "import matplotlib.pyplot as plt\n",
    "import os\n",
    "\n",
    "# Load data and perform SVD\n",
    "folder = \"hw2data/train/\"\n",
    "file_list = os.listdir(folder)\n",
    "numpy_files = [file for file in file_list if file.endswith('.npy')]\n",
    "\n",
    "X_train = np.zeros((114, 1500))\n",
    "\n",
    "for i in range(len(numpy_files)):\n",
    "    path = os.path.join(folder, numpy_files[i])\n",
    "    array = np.load(path)\n",
    "    X_train[:, i*100:(i+1)*100] = array\n",
    "\n",
    "# Center the data\n",
    "mean_X_train = np.mean(X_train, axis=1)[:, None]\n",
    "centered_x_train = X_train - mean_X_train\n",
    "\n",
    "# Perform SVD\n",
    "dU, ds, dVt = np.linalg.svd(centered_x_train, full_matrices=False)\n",
    "\n",
    "# Define the number of principal component modes to visualize\n",
    "num_pc_modes = 10\n",
    "\n",
    "# Define the connections between the joints (skeleton) \n",
    "I = np.array(\n",
    "    [1, 2, 3, 4, 5, 6, 1, 8, 9, 10, 11, 12, 1, 14, 15, 16, 17, 18, 19, 16, 21, 22, 23, 25, 26, 24, 28, 16, 30, 31,\n",
    "     32, 33, 34, 35, 33, 37]) - 1\n",
    "J = np.array(\n",
    "    [2, 3, 4, 5, 6, 7, 8, 9, 10, 11, 12, 13, 14, 15, 16, 17, 18, 19, 20, 21, 22, 23, 24, 26, 27, 28, 29, 30, 31, 32,\n",
    "     33, 34, 35, 36, 37, 38]) - 1\n",
    "\n",
    "# Define the root joint and scaling of the values\n",
    "r = 1000\n",
    "\n",
    "# Create the output folder if it doesn't exist\n",
    "output_folder = 'pc_modes/'\n",
    "os.makedirs(output_folder, exist_ok=True)\n",
    "\n",
    "# Plot the principal components\n",
    "for tind in range(num_pc_modes):\n",
    "    # Scale the PC mode by the corresponding singular value\n",
    "    pc_mode_scaled = dU[:, tind] * ds[tind]\n",
    "    \n",
    "    # Add the mean back to the scaled PC mode\n",
    "    pc_mode_scaled += mean_X_train[:, 0]\n",
    "    \n",
    "    # Reshape the PC mode for visualization\n",
    "    pc_mode_reshaped = pc_mode_scaled.reshape(38, 3)\n",
    "    \n",
    "    fig = plt.figure(figsize=(10, 10))\n",
    "    ax = plt.axes(projection='3d')\n",
    "    for ijind in range(I.shape[0]):\n",
    "        xline = np.array([pc_mode_reshaped[I[ijind], 0], pc_mode_reshaped[J[ijind], 0]])\n",
    "        yline = np.array([pc_mode_reshaped[I[ijind], 1], pc_mode_reshaped[J[ijind], 1]])\n",
    "        zline = np.array([pc_mode_reshaped[I[ijind], 2], pc_mode_reshaped[J[ijind], 2]])\n",
    "        ax.plot(xline, yline, zline)\n",
    "    \n",
    "    #ax.set_xlim([-r + np.mean(pc_mode_reshaped[:, 0]), r + np.mean(pc_mode_reshaped[:, 0])])\n",
    "    #ax.set_zlim([-r + np.mean(pc_mode_reshaped[:, 2]), r + np.mean(pc_mode_reshaped[:, 2])])\n",
    "    #ax.set_ylim([-r + np.mean(pc_mode_reshaped[:, 1]), r + np.mean(pc_mode_reshaped[:, 1])])\n",
    "\n",
    "    plt.savefig(output_folder + f\"pc_mode_{tind + 1}.png\")\n",
    "    plt.close()"
   ]
  },
  {
   "cell_type": "code",
   "execution_count": 44,
   "metadata": {},
   "outputs": [
    {
     "name": "stdout",
     "output_type": "stream",
     "text": [
      "[[ 3.61187491e-02]\n",
      " [ 2.91235308e-02]\n",
      " [-2.31329709e+00]\n",
      " [ 3.61187491e-02]\n",
      " [ 2.91235308e-02]\n",
      " [-2.31329709e+00]\n",
      " [-4.49510669e+01]\n",
      " [-1.08942784e+02]\n",
      " [-1.31291964e+02]\n",
      " [ 5.59935007e+01]\n",
      " [-1.81322169e+02]\n",
      " [-6.19973266e+02]\n",
      " [-6.97515161e+01]\n",
      " [-2.99960246e+01]\n",
      " [-1.04059198e+03]\n",
      " [ 7.46745249e+00]\n",
      " [-1.07539834e+02]\n",
      " [-1.10592978e+03]\n",
      " [ 5.15263760e+01]\n",
      " [-1.52283161e+02]\n",
      " [-1.11377513e+03]\n",
      " [ 3.61187491e-02]\n",
      " [ 2.91235308e-02]\n",
      " [-2.31329709e+00]\n",
      " [ 1.09258925e+02]\n",
      " [ 5.59863064e+01]\n",
      " [-1.24038437e+02]\n",
      " [ 1.97525089e+02]\n",
      " [-4.90904072e+01]\n",
      " [-6.00867979e+02]\n",
      " [ 7.38143223e+01]\n",
      " [ 8.22291588e+01]\n",
      " [-1.02427862e+03]\n",
      " [ 1.62677795e+02]\n",
      " [ 9.43607419e+00]\n",
      " [-1.08975178e+03]\n",
      " [ 2.10384891e+02]\n",
      " [-3.10881292e+01]\n",
      " [-1.09676705e+03]\n",
      " [ 8.95770004e-02]\n",
      " [-1.40655718e-02]\n",
      " [-2.33845412e+00]\n",
      " [ 3.75166987e+00]\n",
      " [-1.22173154e+01]\n",
      " [ 1.38698176e+02]\n",
      " [ 1.29259021e+01]\n",
      " [-2.52375813e+01]\n",
      " [ 2.79455579e+02]\n",
      " [ 1.29438700e+01]\n",
      " [-2.52279303e+01]\n",
      " [ 2.79455543e+02]\n",
      " [-5.55082691e+00]\n",
      " [-2.45427018e+01]\n",
      " [ 3.85732783e+02]\n",
      " [-1.04054892e+01]\n",
      " [-2.31090796e+01]\n",
      " [ 4.93736768e+02]\n",
      " [ 2.79581761e+00]\n",
      " [-2.72405255e+01]\n",
      " [ 6.04673801e+02]\n",
      " [ 1.28142944e+01]\n",
      " [-2.49959861e+01]\n",
      " [ 2.79506601e+02]\n",
      " [-1.61722520e+02]\n",
      " [-1.97704114e+02]\n",
      " [ 3.43907032e+02]\n",
      " [-2.23234583e+02]\n",
      " [-1.61944823e+02]\n",
      " [ 2.57533906e+01]\n",
      " [-1.32741373e+02]\n",
      " [-2.52917247e+02]\n",
      " [-1.13266749e+02]\n",
      " [-1.32416828e+02]\n",
      " [-2.53615681e+02]\n",
      " [-1.14434879e+02]\n",
      " [-1.29876626e+02]\n",
      " [-2.78897300e+02]\n",
      " [-1.36842351e+02]\n",
      " [-1.24661229e+02]\n",
      " [-2.96064750e+02]\n",
      " [-1.56582245e+02]\n",
      " [-1.32745675e+02]\n",
      " [-2.52919886e+02]\n",
      " [-1.13078788e+02]\n",
      " [-1.09363414e+02]\n",
      " [-2.66863601e+02]\n",
      " [-1.38341295e+02]\n",
      " [ 1.31259563e+01]\n",
      " [-2.49474256e+01]\n",
      " [ 2.79310535e+02]\n",
      " [ 1.65724891e+02]\n",
      " [ 1.64675094e+02]\n",
      " [ 3.31966791e+02]\n",
      " [ 1.41460443e+02]\n",
      " [ 2.32476961e+02]\n",
      " [-2.33204574e+00]\n",
      " [ 2.37316864e+02]\n",
      " [ 1.38954022e+02]\n",
      " [-1.42006463e+02]\n",
      " [ 2.37316864e+02]\n",
      " [ 1.38954022e+02]\n",
      " [-1.42006463e+02]\n",
      " [ 2.68827317e+02]\n",
      " [ 1.29296167e+02]\n",
      " [-1.55499327e+02]\n",
      " [ 2.90542907e+02]\n",
      " [ 1.19444659e+02]\n",
      " [-1.68506755e+02]\n",
      " [ 2.37631205e+02]\n",
      " [ 1.38569236e+02]\n",
      " [-1.43290979e+02]\n",
      " [ 2.52071725e+02]\n",
      " [ 1.11261294e+02]\n",
      " [-1.62000183e+02]]\n"
     ]
    }
   ],
   "source": [
    "#print(dU[:,0])\n",
    "#print(dU[:,2])\n",
    "print(mean_X_train)"
   ]
  }
 ],
 "metadata": {
  "colab": {
   "collapsed_sections": [],
   "name": "HW1-Helper.ipynb",
   "provenance": []
  },
  "kernelspec": {
   "display_name": "Python 3 (ipykernel)",
   "language": "python",
   "name": "python3"
  },
  "language_info": {
   "codemirror_mode": {
    "name": "ipython",
    "version": 3
   },
   "file_extension": ".py",
   "mimetype": "text/x-python",
   "name": "python",
   "nbconvert_exporter": "python",
   "pygments_lexer": "ipython3",
   "version": "3.9.18"
  },
  "varInspector": {
   "cols": {
    "lenName": 16,
    "lenType": 16,
    "lenVar": 40
   },
   "kernels_config": {
    "python": {
     "delete_cmd_postfix": "",
     "delete_cmd_prefix": "del ",
     "library": "var_list.py",
     "varRefreshCmd": "print(var_dic_list())"
    },
    "r": {
     "delete_cmd_postfix": ") ",
     "delete_cmd_prefix": "rm(",
     "library": "var_list.r",
     "varRefreshCmd": "cat(var_dic_list()) "
    }
   },
   "oldHeight": 375.844,
   "position": {
    "height": "339.844px",
    "left": "1510px",
    "right": "20px",
    "top": "199px",
    "width": "311px"
   },
   "types_to_exclude": [
    "module",
    "function",
    "builtin_function_or_method",
    "instance",
    "_Feature"
   ],
   "varInspector_section_display": "block",
   "window_display": false
  }
 },
 "nbformat": 4,
 "nbformat_minor": 4
}
