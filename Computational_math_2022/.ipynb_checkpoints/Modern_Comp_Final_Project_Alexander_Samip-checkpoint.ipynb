{
 "cells": [
  {
   "cell_type": "markdown",
   "metadata": {
    "id": "Aq7G3rZDyoWD"
   },
   "source": [
    "# The Monte Carlo Simulation\n",
    "\n",
    "by Samip Karki and Alexander Matoushek"
   ]
  },
  {
   "cell_type": "markdown",
   "metadata": {
    "id": "MpNK-vGskDr5"
   },
   "source": [
    "Our project is inspired by the paper by Diniz et al \"The Sticker Collector's Problem (https://www.tandfonline.com/doi/abs/10.4169/college.math.j.47.4.255)\n",
    "\n",
    "In this paper, the authors investigate the following problem:\n",
    "\n",
    "*If there are 649 distinct stickers of players in the Fifa World Cup and a single package has 5 distinct stickers, what is the average number of packages you would need to buy to get the full collection of 649 distinct stickers?*"
   ]
  },
  {
   "cell_type": "markdown",
   "metadata": {
    "id": "8IHEtAuylOsq"
   },
   "source": [
    "Let M be the numbers of distinct stickers in the whole collection.\n",
    "\n",
    "Let n be the numbers of stickers in one package."
   ]
  },
  {
   "cell_type": "markdown",
   "metadata": {
    "id": "GLx5O87fKuvX"
   },
   "source": [
    "The first thing we needed to do was import all of the neccessary packages we needed for our functions."
   ]
  },
  {
   "cell_type": "code",
   "execution_count": null,
   "metadata": {
    "id": "1-83x9ar0XvK"
   },
   "outputs": [],
   "source": [
    "import random\n",
    "import numpy as np\n",
    "import matplotlib.pyplot as plt\n",
    "import math\n",
    "import time\n",
    "from scipy import stats"
   ]
  },
  {
   "cell_type": "markdown",
   "metadata": {
    "id": "-eO2dd4zLFla"
   },
   "source": [
    "Before creating a function that will give us the desired number of packs needed to complete the set, we first wanted to try to use our method using a much smaller example than M = 649 and n = 5. We chose M = 5 and n = 2, and printed each step of the stickers being added to our list to make sure it's working properly. We included 0 as one of the stickers, meaning we needed a list from 0 to M-1, because this was easier than making a list of 1 to M."
   ]
  },
  {
   "cell_type": "code",
   "execution_count": null,
   "metadata": {
    "colab": {
     "base_uri": "https://localhost:8080/"
    },
    "id": "2gg2xlU3HT7O",
    "outputId": "fb0c3ade-07f5-4595-fbed-a87485319037"
   },
   "outputs": [
    {
     "name": "stdout",
     "output_type": "stream",
     "text": [
      "[0, 0, 0, 0, 0]\n",
      "[0, 0, 0, 3, 4]\n",
      "[0, 0, 0, 3, 4]\n",
      "[0, 0, 0, 3, 4]\n",
      "[0, 1, 0, 3, 4]\n",
      "[0, 1, 2, 3, 4]\n",
      "6\n"
     ]
    }
   ],
   "source": [
    "distinctStickers = 5\n",
    "packSize = 2\n",
    "myStickers = [0] * distinctStickers\n",
    "k = 1\n",
    "while myStickers.count(0) !=  1:\n",
    "  package = random.sample(range(0,distinctStickers),packSize)\n",
    "  print(myStickers)\n",
    "  for i in package:\n",
    "    if i not in myStickers:\n",
    "      myStickers[i] = i\n",
    "  k += 1\n",
    "print(myStickers)\n",
    "print(k)\n"
   ]
  },
  {
   "cell_type": "markdown",
   "metadata": {
    "id": "XmDZcFxuLjJx"
   },
   "source": [
    "The method tried above gives us the correct number of packs needed for our given random sample of sticker packages, meaning we should be able to easily implement this method as a function."
   ]
  },
  {
   "cell_type": "code",
   "execution_count": null,
   "metadata": {
    "id": "HB4skHSbH_jn"
   },
   "outputs": [],
   "source": [
    "#input M and n, then returns the number of packages that completed the set\n",
    "def stickers(distinctStickers, packSize):\n",
    "  myStickers = [0] * distinctStickers\n",
    "  k = 0\n",
    "  while myStickers.count(0) !=  1:\n",
    "    package = random.sample(range(0,distinctStickers),packSize)\n",
    "    for i in package:\n",
    "      if i not in myStickers:\n",
    "        myStickers[i] = i\n",
    "    k += 1\n",
    "  return k"
   ]
  },
  {
   "cell_type": "markdown",
   "metadata": {
    "id": "vUVFpNSHLve3"
   },
   "source": [
    "Let's test our above function to make sure it gets us an estimate of how many packs the sticker collection requires that is roughly in the right ballpark. The analytical solution to this problem given in the paper is 913 packages. Obviously, the number from our function won't be exactly 913 every time, but if we run this simulation many times and find the average of them, we should get a number very close to 913."
   ]
  },
  {
   "cell_type": "code",
   "execution_count": null,
   "metadata": {
    "colab": {
     "base_uri": "https://localhost:8080/"
    },
    "id": "DRTougN1ICoS",
    "outputId": "204e39ae-b8bb-4099-996c-f4ad94820962"
   },
   "outputs": [
    {
     "data": {
      "text/plain": [
       "935"
      ]
     },
     "execution_count": 14,
     "metadata": {},
     "output_type": "execute_result"
    }
   ],
   "source": [
    "stickers(649, 5)"
   ]
  },
  {
   "cell_type": "markdown",
   "metadata": {
    "id": "ddw-3fLcMA9w"
   },
   "source": [
    "Our function told us that for this specific random simulation, you would need 935 packs to get the complete set, which is close to what our population mean is. This means our function is indeed getting us a correct approximation and is an appropriate estimation. This will allow us to make large lists of simulations for various pack sizes, and find the means of those lists to get sample means and approximations of the packs required, as well as analyze some other features of the list."
   ]
  },
  {
   "cell_type": "markdown",
   "metadata": {
    "id": "Nq1pffpaWOBX"
   },
   "source": [
    "## Finding Runtimes"
   ]
  },
  {
   "cell_type": "markdown",
   "metadata": {
    "id": "LrArns8sMiKg"
   },
   "source": [
    "A small additional thing we wanted to look into was the runtimes of our simulations as we changed the stickers per pack going forward. To do this, we decided to use Python features to record the time before creating each list for each pack size, and then the time after creating each list, and save these as the times. We found the runtimes and made the list at the same time to save time and also to make sure the runtimes we were recording were accurate. Because we were creating a new list inside of each runtime calculation, we did not use a function for this."
   ]
  },
  {
   "cell_type": "markdown",
   "metadata": {
    "id": "LXD55psrNZy6"
   },
   "source": [
    "Now, we're ready to start analyzing our various lists of packs for different pack sizes, and start looking for trends!"
   ]
  },
  {
   "cell_type": "markdown",
   "metadata": {
    "id": "890e8o3brxlR"
   },
   "source": [
    "# Answering the Sticker Collector's Problem (M = 649, n = 5)"
   ]
  },
  {
   "cell_type": "markdown",
   "metadata": {
    "id": "NUN21k43Nj_w"
   },
   "source": [
    "We started by creating our first list, where pack size is 5."
   ]
  },
  {
   "cell_type": "code",
   "execution_count": null,
   "metadata": {
    "colab": {
     "base_uri": "https://localhost:8080/"
    },
    "id": "-cVWMrO6gWLk",
    "outputId": "c7097ef3-c934-4d95-eec5-7df78276f8a0"
   },
   "outputs": [
    {
     "name": "stdout",
     "output_type": "stream",
     "text": [
      "423.47702288627625\n"
     ]
    }
   ],
   "source": [
    "startTime = time.time()\n",
    "stickerList = [stickers(649,5) for i in range(10000)]\n",
    "endTime = time.time()\n",
    "#print(\"runtime:\", endTime - startTime)\n",
    "runTime = endTime - startTime\n",
    "print(runTime)"
   ]
  },
  {
   "cell_type": "markdown",
   "metadata": {
    "id": "H63NTJe1NxAm"
   },
   "source": [
    "Note that the runtime for this list was 423 seconds. We can use a sum function to help us find the mean of the list, which is our sample mean number of packs required to complete the set with our given pack size. This is what should give us an accurate approximation of the true mean."
   ]
  },
  {
   "cell_type": "code",
   "execution_count": null,
   "metadata": {
    "colab": {
     "base_uri": "https://localhost:8080/"
    },
    "id": "Gpcim811gYGo",
    "outputId": "3851faac-e1a2-4735-b0ec-e7a2e0755331"
   },
   "outputs": [
    {
     "name": "stdout",
     "output_type": "stream",
     "text": [
      "916.1791\n"
     ]
    }
   ],
   "source": [
    "listMean = sum(stickerList)/10000\n",
    "print(listMean)"
   ]
  },
  {
   "cell_type": "markdown",
   "metadata": {
    "id": "bI9a1KcDOHnZ"
   },
   "source": [
    "We obtained a sample mean of 916.18, which is very close to the true mean of 913.1. If we ran even more than 10,000 simulations, we would get an even more accurate approximation, but this would take too much time given our limitations. Let's make a histogram of our 10,000 simulations to see what sort of distribution it follows."
   ]
  },
  {
   "cell_type": "code",
   "execution_count": null,
   "metadata": {
    "colab": {
     "base_uri": "https://localhost:8080/",
     "height": 279
    },
    "id": "rbo4anT_gaX9",
    "outputId": "3415837a-6831-4f6b-9179-393d03981ede"
   },
   "outputs": [
    {
     "data": {
      "image/png": "[encoded data removed]",
      "text/plain": [
       "<Figure size 432x288 with 1 Axes>"
      ]
     },
     "metadata": {
      "needs_background": "light"
     },
     "output_type": "display_data"
    }
   ],
   "source": [
    "plt.hist(stickerList, bins = 50)\n",
    "plt.xlim(0,2000)\n",
    "plt.xlabel(\"number of packs bought to complete the set\")\n",
    "plt.ylabel(\"frequency\");"
   ]
  },
  {
   "cell_type": "markdown",
   "metadata": {
    "id": "wV9NXx8POnCb"
   },
   "source": [
    "The resulting histogram is fairly normal, with a slight right skew. It is good to see that the data is very centered around where it should be, the 800-900 range."
   ]
  },
  {
   "cell_type": "markdown",
   "metadata": {
    "id": "8-Ov54W9bhx4"
   },
   "source": [
    "**Making a list of proportions**"
   ]
  },
  {
   "cell_type": "markdown",
   "metadata": {
    "id": "kbSPj53APE63"
   },
   "source": [
    "The next thing we wanted to implement was a list of proportions, specifcally the proportion of the list that completed the set within each different number of packs. This list would allow us to find the probability of completing the set with any given number of packs bought, anywhere from the smallest amount it took to complete the set to the largest amount it took to complete the set. To figure out this function, we again started with a very small example list."
   ]
  },
  {
   "cell_type": "code",
   "execution_count": null,
   "metadata": {
    "colab": {
     "base_uri": "https://localhost:8080/"
    },
    "id": "jPIta4fSamCV",
    "outputId": "b5c66dae-5652-4765-cf5d-beeb8bc17a0b"
   },
   "outputs": [
    {
     "data": {
      "text/plain": [
       "array([[0. , 0. ],\n",
       "       [1. , 0.4],\n",
       "       [2. , 0.6],\n",
       "       [3. , 0.8],\n",
       "       [4. , 1. ]])"
      ]
     },
     "execution_count": 3,
     "metadata": {},
     "output_type": "execute_result"
    }
   ],
   "source": [
    "test = np.array([1,1,2,3,4])\n",
    "props = np.zeros((5,2))\n",
    "start = 0\n",
    "stop = 5\n",
    "sum = 0\n",
    "for i in range(start,stop):\n",
    "  props[i,0] = i\n",
    "  sum = sum + np.count_nonzero(test == i)\n",
    "  props[i,1] = sum/(stop-start)\n",
    "\n",
    "props"
   ]
  },
  {
   "cell_type": "markdown",
   "metadata": {
    "id": "nL5BMwbQPebo"
   },
   "source": [
    "The array in the output above shows that the probability of completing the set in 1 pack in our example is 0.4, which is correct because 2/5 numbers in our list are 1s. The probability is also 1 after 4 packs, because if you buy 4 packs, you will have completed the set in all 5 trials in our example. This method is working, so it is now time to implement this as a function."
   ]
  },
  {
   "cell_type": "code",
   "execution_count": null,
   "metadata": {
    "id": "I0LSkUVBcVhm"
   },
   "outputs": [],
   "source": [
    "#input a list of many simulations, output is coordinates for a probability graph\n",
    "def get_proportions(stickerList):\n",
    "  stickerList = np.sort(stickerList)\n",
    "  start = stickerList.min()\n",
    "  stop = stickerList.max()\n",
    "  props = np.zeros((stop, 2))\n",
    "  sum = 0\n",
    "  for i in range(start, stop):\n",
    "    props[i,0] = i\n",
    "    sum = sum + np.count_nonzero(stickerList == i)\n",
    "    props[i,1] = sum/len(stickerList)\n",
    "\n",
    "  return props\n"
   ]
  },
  {
   "cell_type": "markdown",
   "metadata": {
    "id": "TWDuUTjePz2L"
   },
   "source": [
    "Let's make a slightly larger test list using our sticker function and plot the poroportion list to see if it is working properly. Based on the findings in the article, this plot should see an asymptotic trend where the porbability is 0 for a while, and then somewhere near the mean should pretty rapidly shoot up to 1."
   ]
  },
  {
   "cell_type": "code",
   "execution_count": null,
   "metadata": {
    "id": "hQwMbKqrdIzH"
   },
   "outputs": [],
   "source": [
    "test_list =  [stickers(100,5) for i in range(10000)]\n",
    "test_list"
   ]
  },
  {
   "cell_type": "code",
   "execution_count": null,
   "metadata": {
    "colab": {
     "base_uri": "https://localhost:8080/",
     "height": 265
    },
    "id": "c5ek-UGvdYe7",
    "outputId": "2699e8b5-b981-4d27-faaa-d7fadfab67a2"
   },
   "outputs": [
    {
     "data": {
      "image/png": "[encoded data removed]",
      "text/plain": [
       "<Figure size 432x288 with 1 Axes>"
      ]
     },
     "metadata": {
      "needs_background": "light"
     },
     "output_type": "display_data"
    }
   ],
   "source": [
    "test_plot=get_proportions(test_list)\n",
    "plt.plot(test_plot[:,0],test_plot[:,1]);\n"
   ]
  },
  {
   "cell_type": "markdown",
   "metadata": {
    "id": "3FIe31UDQFTv"
   },
   "source": [
    "Our plot for a sticker amount of 100 and a pack size of 5 does indeed show the relationship we want it to, where the probabilty of a full set is 0 until about 60 packs bought, and by about 160 packs it is about 1. Note that in these probability plots, the point where probability is 0.5 (roughly 100 here) is what we should get as the sample mean of our list, as that is the amount of packs where you should complete the set half the time. Let's test our proportion function with our newly formed stickerList list for M = 649 and n = 5."
   ]
  },
  {
   "cell_type": "markdown",
   "metadata": {
    "id": "-naR6H6mfr7D"
   },
   "source": [
    "**get_proportions works correctly**"
   ]
  },
  {
   "cell_type": "code",
   "execution_count": null,
   "metadata": {
    "colab": {
     "base_uri": "https://localhost:8080/",
     "height": 279
    },
    "id": "ZGuCayHyus-M",
    "outputId": "c4d1b019-266b-48b2-bf6b-8cc189d97ad3"
   },
   "outputs": [
    {
     "data": {
      "image/png": "[encoded data removed]",
      "text/plain": [
       "<Figure size 432x288 with 1 Axes>"
      ]
     },
     "metadata": {
      "needs_background": "light"
     },
     "output_type": "display_data"
    }
   ],
   "source": [
    "test_plot = get_proportions(stickerList)\n",
    "plt.plot(test_plot[:,0],test_plot[:,1])\n",
    "plt.xlabel(\"packs bought\")\n",
    "plt.ylabel(\"probability of completing the full set\");"
   ]
  },
  {
   "cell_type": "markdown",
   "metadata": {
    "id": "ZLWCuZLvQnaf"
   },
   "source": [
    "We can again see the asymptotic relationship here, and we can also see that the point where probability = 0.5 is around 900 like it should be. We can have full confidence that our probability function is working properly."
   ]
  },
  {
   "cell_type": "markdown",
   "metadata": {
    "id": "40KaGJ5d8wOo"
   },
   "source": [
    "We also wanted to find the standard error for each of our lists to find how accurate they are for predicting the true population mean. Standard error is different from standard deviation because rather than comaring individual values, it compares a sample mean to the full population mean. To do this, we can use a function from the built in \"stats\" package in Python."
   ]
  },
  {
   "cell_type": "code",
   "execution_count": null,
   "metadata": {
    "id": "HYRNVzd18uT7"
   },
   "outputs": [],
   "source": [
    "error1 = stats.sem(stickerList)"
   ]
  },
  {
   "cell_type": "markdown",
   "metadata": {
    "id": "ZiQS4Dy-ou1J"
   },
   "source": [
    "# Finding how many packs are needed to be 99% confident in getting the full set"
   ]
  },
  {
   "cell_type": "markdown",
   "metadata": {
    "id": "ynr1a0aoRhth"
   },
   "source": [
    "Knowing that our proportion function can tell us the probability of completing the set with any given amount of packs bought, we wanted to come up with a way to find what number of packs gives you a probability of at least 0.99. The number we found earlier of 916 was the mean, but this only gave you a 50% probability of completing the set, which isn't that high. To fully complete the set, you'd need to buy more, but how many more? To answer this question, we implemented a function that finds the first pack amount in the proportion list that is associated with a probability of at least 0.99."
   ]
  },
  {
   "cell_type": "code",
   "execution_count": null,
   "metadata": {
    "id": "gzd3ByISotoq"
   },
   "outputs": [],
   "source": [
    "def find99(list):\n",
    "  for i in range(len(list)):\n",
    "    if list[i,1] >= 0.99:\n",
    "      return i"
   ]
  },
  {
   "cell_type": "code",
   "execution_count": null,
   "metadata": {
    "colab": {
     "base_uri": "https://localhost:8080/"
    },
    "id": "rUUKmzPqpL16",
    "outputId": "b9dc6b14-0dbf-42b0-9196-7ed6c67e7fcb"
   },
   "outputs": [
    {
     "data": {
      "text/plain": [
       "1448"
      ]
     },
     "execution_count": 226,
     "metadata": {},
     "output_type": "execute_result"
    }
   ],
   "source": [
    "find99(test_plot)"
   ]
  },
  {
   "cell_type": "markdown",
   "metadata": {
    "id": "nYbv95ePpOZR"
   },
   "source": [
    "You need 1,448 packs to be 99% sure of completing the set with 5 stickers per pack, which makes sense given where the plot we made appears to be approaching 1."
   ]
  },
  {
   "cell_type": "markdown",
   "metadata": {
    "id": "XIe1Un1Cr8s2"
   },
   "source": [
    "Now that we have confirmed the findings of Diniz, Lopes, Polpo, and Salasar, we wanted to explore some other amounts of stickers per packs, and analyze some trends as you change the stickers per pack (n). We chose several of the pack sizes used in the article, with the exception of 50, which we chose because the article used 61 and 62 and we prefered to check a more round number."
   ]
  },
  {
   "cell_type": "markdown",
   "metadata": {
    "id": "xpK3wK7BO0Nq"
   },
   "source": [
    "# 1 sticker per pack"
   ]
  },
  {
   "cell_type": "code",
   "execution_count": null,
   "metadata": {
    "colab": {
     "base_uri": "https://localhost:8080/"
    },
    "id": "tBFPY83yO4cX",
    "outputId": "d03cf129-d50a-4c6f-95da-081c36685b63"
   },
   "outputs": [
    {
     "name": "stdout",
     "output_type": "stream",
     "text": [
      "841.7757334709167\n"
     ]
    }
   ],
   "source": [
    "startTime = time.time()\n",
    "stickerList2 = [stickers(649,1) for i in range(10000)]\n",
    "endTime = time.time()\n",
    "#print(\"runtime:\", endTime - startTime)\n",
    "runTime2 = endTime - startTime\n",
    "print(runTime2)"
   ]
  },
  {
   "cell_type": "markdown",
   "metadata": {
    "id": "5AnnHvLZSb6B"
   },
   "source": [
    "The runtime for packs of size 1 was way higher than pack size 5, taking over 14 minutes to complete. This makes sense, because a pack size of 1 gives you very high variability, and it could take thousands and thousands of packs to complete the set even if you just have a few missing stickers."
   ]
  },
  {
   "cell_type": "code",
   "execution_count": null,
   "metadata": {
    "colab": {
     "base_uri": "https://localhost:8080/"
    },
    "id": "KWCP4PHRO5we",
    "outputId": "9f26d614-80f9-4fa2-cd67-4b1d42b7c0fb"
   },
   "outputs": [
    {
     "name": "stdout",
     "output_type": "stream",
     "text": [
      "4585.2128\n"
     ]
    }
   ],
   "source": [
    "listMean2 = sum(stickerList2)/10000\n",
    "print(listMean2)"
   ]
  },
  {
   "cell_type": "markdown",
   "metadata": {
    "id": "8tLsnADYSrht"
   },
   "source": [
    "Like I mentioned above, the average packs needed for pack size 1 is over 4,500, which is about 5 times larger than the amount needed for packs of size 5."
   ]
  },
  {
   "cell_type": "code",
   "execution_count": null,
   "metadata": {
    "colab": {
     "base_uri": "https://localhost:8080/",
     "height": 279
    },
    "id": "vmoW2g4gO7S5",
    "outputId": "d480caf3-ca39-4ffe-a97e-5a8c846458d8"
   },
   "outputs": [
    {
     "data": {
      "image/png": "[encoded data removed]",
      "text/plain": [
       "<Figure size 432x288 with 1 Axes>"
      ]
     },
     "metadata": {
      "needs_background": "light"
     },
     "output_type": "display_data"
    }
   ],
   "source": [
    "plt.hist(stickerList2, bins = 50)\n",
    "plt.xlim(0,12000)\n",
    "plt.xlabel(\"number of packs bought to complete the set\")\n",
    "plt.ylabel(\"frequency\");"
   ]
  },
  {
   "cell_type": "markdown",
   "metadata": {
    "id": "GTV6pFAFS1QQ"
   },
   "source": [
    "The associated histogram for this distribution sees the same roughly normal distribution, with a slight right skew still. Something interesting to note is that this histogram is much wider, with the data mostly falling within a range of about 3,000-7,000, while for pack size 5 the data fell within a range of around 500-1,500."
   ]
  },
  {
   "cell_type": "code",
   "execution_count": null,
   "metadata": {
    "id": "_n8kNPs8O8q7"
   },
   "outputs": [],
   "source": [
    "error2 = stats.sem(stickerList2)"
   ]
  },
  {
   "cell_type": "code",
   "execution_count": null,
   "metadata": {
    "colab": {
     "base_uri": "https://localhost:8080/",
     "height": 279
    },
    "id": "JYHW4hHflljJ",
    "outputId": "d3f5efb7-490f-4b45-8adb-a873c891d1d0"
   },
   "outputs": [
    {
     "data": {
      "image/png": "[encoded data removed]",
      "text/plain": [
       "<Figure size 432x288 with 1 Axes>"
      ]
     },
     "metadata": {
      "needs_background": "light"
     },
     "output_type": "display_data"
    }
   ],
   "source": [
    "test_plot2 = get_proportions(stickerList2)\n",
    "plt.plot(test_plot2[:,0],test_plot2[:,1])\n",
    "plt.xlabel(\"packs bought\")\n",
    "plt.ylabel(\"probability of completing the full set\");"
   ]
  },
  {
   "cell_type": "markdown",
   "metadata": {
    "id": "5K0D0e-9TRjn"
   },
   "source": [
    "All of the probability plots will show the same trend, but we will eventually look to overlay all of them on top of each other to compare them. Like mentioned above, this plot definitely appears to be stretched out more, and the transformative part appears to be wider than for pack size 5."
   ]
  },
  {
   "cell_type": "code",
   "execution_count": null,
   "metadata": {
    "colab": {
     "base_uri": "https://localhost:8080/"
    },
    "id": "TdI8CgN3mL-A",
    "outputId": "9342ca07-9c23-4409-ff44-43a6676d0bf6"
   },
   "outputs": [
    {
     "data": {
      "text/plain": [
       "7219"
      ]
     },
     "execution_count": 227,
     "metadata": {},
     "output_type": "execute_result"
    }
   ],
   "source": [
    "find99(test_plot2)"
   ]
  },
  {
   "cell_type": "markdown",
   "metadata": {
    "id": "dsM3iRjNpFXE"
   },
   "source": [
    "You need 7,219 packs to be 99% sure of completing the set with 1 sticker per pack."
   ]
  },
  {
   "cell_type": "markdown",
   "metadata": {
    "id": "N3hSZzEgOq0x"
   },
   "source": [
    "# 10 stickers per pack"
   ]
  },
  {
   "cell_type": "code",
   "execution_count": null,
   "metadata": {
    "colab": {
     "base_uri": "https://localhost:8080/"
    },
    "id": "6tnlePnMOXo1",
    "outputId": "28e8aff6-31a5-4304-b685-0776cfe57c7b"
   },
   "outputs": [
    {
     "name": "stdout",
     "output_type": "stream",
     "text": [
      "399.7271192073822\n"
     ]
    }
   ],
   "source": [
    "startTime = time.time()\n",
    "stickerList3 = [stickers(649,10) for i in range(10000)]\n",
    "endTime = time.time()\n",
    "#print(\"runtime:\", endTime - startTime)\n",
    "runTime3 = endTime - startTime\n",
    "print(runTime3)"
   ]
  },
  {
   "cell_type": "markdown",
   "metadata": {
    "id": "ataGNJrlTm0-"
   },
   "source": [
    "The runtime here is slightly less than for pack size 5, which is what we would expect."
   ]
  },
  {
   "cell_type": "code",
   "execution_count": null,
   "metadata": {
    "colab": {
     "base_uri": "https://localhost:8080/"
    },
    "id": "dUAUhetKOTqI",
    "outputId": "c8e40010-9826-408a-daaf-f697732b0f2c"
   },
   "outputs": [
    {
     "name": "stdout",
     "output_type": "stream",
     "text": [
      "455.4349\n"
     ]
    }
   ],
   "source": [
    "listMean3 = sum(stickerList3)/10000\n",
    "print(listMean3)"
   ]
  },
  {
   "cell_type": "markdown",
   "metadata": {
    "id": "HsgNOSQQTtvV"
   },
   "source": [
    "The average number of packs needed that we got was 455.4, which is very close to the exact answer of 455.0 the authors of the article got."
   ]
  },
  {
   "cell_type": "code",
   "execution_count": null,
   "metadata": {
    "colab": {
     "base_uri": "https://localhost:8080/",
     "height": 279
    },
    "id": "oq3qgos3OZyM",
    "outputId": "b8d918ef-d1be-4e31-8002-a64b9a296f05"
   },
   "outputs": [
    {
     "data": {
      "image/png": "[encoded data removed]",
      "text/plain": [
       "<Figure size 432x288 with 1 Axes>"
      ]
     },
     "metadata": {
      "needs_background": "light"
     },
     "output_type": "display_data"
    }
   ],
   "source": [
    "plt.hist(stickerList3, bins = 50)\n",
    "plt.xlim(0,1500)\n",
    "plt.xlabel(\"number of packs bought to complete the set\")\n",
    "plt.ylabel(\"frequency\");"
   ]
  },
  {
   "cell_type": "markdown",
   "metadata": {
    "id": "X-vnCHRET5HV"
   },
   "source": [
    "We see another similar histogram, where the data is roughly normal with a slight right skew. This also appears to confirm what we theorized earlier, where the data is becoming more narrow as we increase the pack size. This is because with more stickers per pack, you are more likely to get the full set in the same amount of packs every time since you have a better idea of which stickers will be in each pack."
   ]
  },
  {
   "cell_type": "code",
   "execution_count": null,
   "metadata": {
    "id": "PJTrqfedOlC9"
   },
   "outputs": [],
   "source": [
    "error3 = stats.sem(stickerList3)"
   ]
  },
  {
   "cell_type": "code",
   "execution_count": null,
   "metadata": {
    "colab": {
     "base_uri": "https://localhost:8080/",
     "height": 279
    },
    "id": "u3HxJLwrlqBy",
    "outputId": "ea589ad6-ab1e-4865-db9f-3d77ef88c358"
   },
   "outputs": [
    {
     "data": {
      "image/png": "[encoded data removed]",
      "text/plain": [
       "<Figure size 432x288 with 1 Axes>"
      ]
     },
     "metadata": {
      "needs_background": "light"
     },
     "output_type": "display_data"
    }
   ],
   "source": [
    "test_plot3 = get_proportions(stickerList3)\n",
    "plt.plot(test_plot3[:,0],test_plot3[:,1])\n",
    "plt.xlabel(\"packs bought\")\n",
    "plt.ylabel(\"probability of completing the full set\");"
   ]
  },
  {
   "cell_type": "markdown",
   "metadata": {
    "id": "fHRa5aRBUPsM"
   },
   "source": [
    "Our probability plot again looks similar to what we've already seen."
   ]
  },
  {
   "cell_type": "code",
   "execution_count": null,
   "metadata": {
    "colab": {
     "base_uri": "https://localhost:8080/"
    },
    "id": "jJ9zlBz1pWSS",
    "outputId": "06c9fa6e-2fa2-4d86-e326-dd1a96649406"
   },
   "outputs": [
    {
     "data": {
      "text/plain": [
       "709"
      ]
     },
     "execution_count": 228,
     "metadata": {},
     "output_type": "execute_result"
    }
   ],
   "source": [
    "find99(test_plot3)"
   ]
  },
  {
   "cell_type": "markdown",
   "metadata": {
    "id": "sL7I4uDVpW2m"
   },
   "source": [
    "You need 709 packs to be 99% sure of completing the set with 10 stickers per pack."
   ]
  },
  {
   "cell_type": "markdown",
   "metadata": {
    "id": "fHcWOkUaOoDh"
   },
   "source": [
    "# 50 stickers per pack"
   ]
  },
  {
   "cell_type": "code",
   "execution_count": null,
   "metadata": {
    "colab": {
     "base_uri": "https://localhost:8080/"
    },
    "id": "BfC6_v8XOdPi",
    "outputId": "892a9946-f990-4d2d-a514-bb2bdc7fdf41"
   },
   "outputs": [
    {
     "name": "stdout",
     "output_type": "stream",
     "text": [
      "308.27709674835205\n"
     ]
    }
   ],
   "source": [
    "startTime = time.time()\n",
    "stickerList4 = [stickers(649,50) for i in range(10000)]\n",
    "endTime = time.time()\n",
    "#print(\"runtime:\", endTime - startTime)\n",
    "runTime4 = endTime - startTime\n",
    "print(runTime4)"
   ]
  },
  {
   "cell_type": "markdown",
   "metadata": {
    "id": "2Qvll4-4Ue3M"
   },
   "source": [
    "The runtime continues to decrease as we increase the amount of stickers per pack. This is likely because we are needing less and less stickers to complete the set as we go."
   ]
  },
  {
   "cell_type": "code",
   "execution_count": null,
   "metadata": {
    "colab": {
     "base_uri": "https://localhost:8080/"
    },
    "id": "jCrLeSQpOduV",
    "outputId": "6bfbbef9-74d2-4949-f213-975539a7a726"
   },
   "outputs": [
    {
     "name": "stdout",
     "output_type": "stream",
     "text": [
      "88.3635\n"
     ]
    }
   ],
   "source": [
    "listMean4 = sum(stickerList4)/10000\n",
    "print(listMean4)"
   ]
  },
  {
   "cell_type": "markdown",
   "metadata": {
    "id": "tJWVxPJqUqBT"
   },
   "source": [
    "For packs of size 50, on average you need 88.4 packs to complete the set. The article did not check pack size 50 so we do not have a reference for this sample mean."
   ]
  },
  {
   "cell_type": "code",
   "execution_count": null,
   "metadata": {
    "colab": {
     "base_uri": "https://localhost:8080/",
     "height": 279
    },
    "id": "E2npXnh9Og_o",
    "outputId": "1a513def-aac4-4218-ea87-c9540016a45c"
   },
   "outputs": [
    {
     "data": {
      "image/png": "[encoded data removed]",
      "text/plain": [
       "<Figure size 432x288 with 1 Axes>"
      ]
     },
     "metadata": {
      "needs_background": "light"
     },
     "output_type": "display_data"
    }
   ],
   "source": [
    "plt.hist(stickerList4, bins = 30)\n",
    "plt.xlim(0,300)\n",
    "plt.xlabel(\"number of packs bought to complete the set\")\n",
    "plt.ylabel(\"frequency\");"
   ]
  },
  {
   "cell_type": "markdown",
   "metadata": {
    "id": "Hp4YgvA_Uy1Y"
   },
   "source": [
    "The histogram looks the same yet again, with a narrow distribution around roughly the mean, with a slight right skew."
   ]
  },
  {
   "cell_type": "code",
   "execution_count": null,
   "metadata": {
    "id": "3PVyxSBKOncU"
   },
   "outputs": [],
   "source": [
    "error4 = stats.sem(stickerList4)"
   ]
  },
  {
   "cell_type": "code",
   "execution_count": null,
   "metadata": {
    "colab": {
     "base_uri": "https://localhost:8080/",
     "height": 279
    },
    "id": "uHQV49zjlvcJ",
    "outputId": "c18b9122-0139-4f42-e3bd-4aa92eac06fb"
   },
   "outputs": [
    {
     "data": {
      "image/png": "[encoded data removed]",
      "text/plain": [
       "<Figure size 432x288 with 1 Axes>"
      ]
     },
     "metadata": {
      "needs_background": "light"
     },
     "output_type": "display_data"
    }
   ],
   "source": [
    "test_plot4 = get_proportions(stickerList4)\n",
    "plt.plot(test_plot4[:,0],test_plot4[:,1])\n",
    "plt.xlabel(\"packs bought\")\n",
    "plt.ylabel(\"probability of completing the full set\");"
   ]
  },
  {
   "cell_type": "markdown",
   "metadata": {
    "id": "Rm_9gCL3U7Yg"
   },
   "source": [
    "All of the probabilty plots look essentially the same by themselves, with the exception of the scale. It will be interesting to compare them all to each other at the end."
   ]
  },
  {
   "cell_type": "code",
   "execution_count": null,
   "metadata": {
    "colab": {
     "base_uri": "https://localhost:8080/"
    },
    "id": "YU6g_KB9piw2",
    "outputId": "4e8390fd-5106-4115-db15-f0b94590bfb6"
   },
   "outputs": [
    {
     "data": {
      "text/plain": [
       "138"
      ]
     },
     "execution_count": 229,
     "metadata": {},
     "output_type": "execute_result"
    }
   ],
   "source": [
    "find99(test_plot4)"
   ]
  },
  {
   "cell_type": "markdown",
   "metadata": {
    "id": "yQ2T4ceLpik6"
   },
   "source": [
    "You need 138 packs to be 99% sure of completing the set with 50 stickers per pack."
   ]
  },
  {
   "cell_type": "markdown",
   "metadata": {
    "id": "NiSz4-70PE22"
   },
   "source": [
    "# 100 stickers per pack"
   ]
  },
  {
   "cell_type": "code",
   "execution_count": null,
   "metadata": {
    "colab": {
     "base_uri": "https://localhost:8080/"
    },
    "id": "xPsHKopSPImO",
    "outputId": "7ef7f1ef-947e-473a-88e9-41f6a4d61433"
   },
   "outputs": [
    {
     "name": "stdout",
     "output_type": "stream",
     "text": [
      "349.13524198532104\n"
     ]
    }
   ],
   "source": [
    "startTime = time.time()\n",
    "stickerList5 = [stickers(649,100) for i in range(10000)]\n",
    "endTime = time.time()\n",
    "#print(\"runtime:\", endTime - startTime)\n",
    "runTime5 = endTime - startTime\n",
    "print(runTime5)"
   ]
  },
  {
   "cell_type": "markdown",
   "metadata": {
    "id": "S2MT26bcomMA"
   },
   "source": [
    "It took 349.135s to do 10,000 simulations of M = 649, n = 100"
   ]
  },
  {
   "cell_type": "code",
   "execution_count": null,
   "metadata": {
    "colab": {
     "base_uri": "https://localhost:8080/"
    },
    "id": "2EljGkz-PLVO",
    "outputId": "b246bb68-1a1d-43f3-f160-4ad025f6b364"
   },
   "outputs": [
    {
     "name": "stdout",
     "output_type": "stream",
     "text": [
      "42.5329\n"
     ]
    }
   ],
   "source": [
    "listMean5 = sum(stickerList5)/10000\n",
    "print(listMean5)"
   ]
  },
  {
   "cell_type": "markdown",
   "metadata": {
    "id": "go5Y-KCOozH8"
   },
   "source": [
    "The sample mean of 100 stickers per pack is 42.53"
   ]
  },
  {
   "cell_type": "code",
   "execution_count": null,
   "metadata": {
    "colab": {
     "base_uri": "https://localhost:8080/",
     "height": 279
    },
    "id": "aM1HZwinPNQ9",
    "outputId": "68951b5d-f746-4c22-d7f7-4bd9c179247f"
   },
   "outputs": [
    {
     "data": {
      "image/png": "[encoded data removed]",
      "text/plain": [
       "<Figure size 432x288 with 1 Axes>"
      ]
     },
     "metadata": {
      "needs_background": "light"
     },
     "output_type": "display_data"
    }
   ],
   "source": [
    "plt.hist(stickerList5, bins = 25)\n",
    "plt.xlim(0,100)\n",
    "plt.xlabel(\"number of packs bought to complete the set\")\n",
    "plt.ylabel(\"frequency\");"
   ]
  },
  {
   "cell_type": "markdown",
   "metadata": {
    "id": "AnrE4jYIo8Vk"
   },
   "source": [
    "We can see that the spread of the histograms are getting smaller as we are increasing n"
   ]
  },
  {
   "cell_type": "code",
   "execution_count": null,
   "metadata": {
    "id": "bkuJTjETPPCz"
   },
   "outputs": [],
   "source": [
    "error5 = stats.sem(stickerList5)"
   ]
  },
  {
   "cell_type": "code",
   "execution_count": null,
   "metadata": {
    "colab": {
     "base_uri": "https://localhost:8080/",
     "height": 279
    },
    "id": "FMOpTMdclzUS",
    "outputId": "1791344e-b407-4b0d-9b68-009e8150a19f"
   },
   "outputs": [
    {
     "data": {
      "image/png": "[encoded data removed]",
      "text/plain": [
       "<Figure size 432x288 with 1 Axes>"
      ]
     },
     "metadata": {
      "needs_background": "light"
     },
     "output_type": "display_data"
    }
   ],
   "source": [
    "test_plot5 = get_proportions(stickerList5)\n",
    "plt.plot(test_plot5[:,0],test_plot5[:,1])\n",
    "plt.xlabel(\"packs bought\")\n",
    "plt.ylabel(\"probability of completing the full set\");"
   ]
  },
  {
   "cell_type": "markdown",
   "metadata": {
    "id": "2Hmo6OsYpCc4"
   },
   "source": [
    "Probability of completing the collection with x number of packages bought, with M = 649, n = 100"
   ]
  },
  {
   "cell_type": "code",
   "execution_count": null,
   "metadata": {
    "colab": {
     "base_uri": "https://localhost:8080/"
    },
    "id": "e0Y06AkTp5U6",
    "outputId": "e0be83f8-e0dc-4fd0-eea0-fa5406b73bd3"
   },
   "outputs": [
    {
     "data": {
      "text/plain": [
       "66"
      ]
     },
     "execution_count": 230,
     "metadata": {},
     "output_type": "execute_result"
    }
   ],
   "source": [
    "find99(test_plot5)"
   ]
  },
  {
   "cell_type": "markdown",
   "metadata": {
    "id": "6MzlPFxIp5r0"
   },
   "source": [
    "You need 66 packs to be 99% sure of completing the set with 100 stickers per pack."
   ]
  },
  {
   "cell_type": "markdown",
   "metadata": {
    "id": "MqN-zn1WPRKD"
   },
   "source": [
    "# 500 stickers per pack"
   ]
  },
  {
   "cell_type": "code",
   "execution_count": null,
   "metadata": {
    "colab": {
     "base_uri": "https://localhost:8080/"
    },
    "id": "22lQxww6PUZa",
    "outputId": "564d13f9-d6d1-472a-df24-ecf15d880238"
   },
   "outputs": [
    {
     "name": "stdout",
     "output_type": "stream",
     "text": [
      "203.04116225242615\n"
     ]
    }
   ],
   "source": [
    "startTime = time.time()\n",
    "stickerList6 = [stickers(649,500) for i in range(10000)]\n",
    "endTime = time.time()\n",
    "#print(\"runtime:\", endTime - startTime)\n",
    "runTime6 = endTime - startTime\n",
    "print(runTime6)"
   ]
  },
  {
   "cell_type": "markdown",
   "metadata": {
    "id": "X78yF3SHpQ7W"
   },
   "source": [
    "It took 203.041s to make 10,000 simulations of M = 649, n = 500"
   ]
  },
  {
   "cell_type": "code",
   "execution_count": null,
   "metadata": {
    "colab": {
     "base_uri": "https://localhost:8080/"
    },
    "id": "CzyzYJltPXcu",
    "outputId": "8593e1fc-4b00-40cc-8523-5c6de84b6563"
   },
   "outputs": [
    {
     "name": "stdout",
     "output_type": "stream",
     "text": [
      "5.3163\n"
     ]
    }
   ],
   "source": [
    "listMean6 = sum(stickerList6)/10000\n",
    "print(listMean6)"
   ]
  },
  {
   "cell_type": "markdown",
   "metadata": {
    "id": "L5WU6AEepa6h"
   },
   "source": [
    "The sample mean of the 10,000 simulations is 5.316"
   ]
  },
  {
   "cell_type": "code",
   "execution_count": null,
   "metadata": {
    "colab": {
     "base_uri": "https://localhost:8080/",
     "height": 279
    },
    "id": "4ihcT60gPZUB",
    "outputId": "d6c54af5-1aac-4cc9-c714-72dfcce606e9"
   },
   "outputs": [
    {
     "data": {
      "image/png": "[encoded data removed]",
      "text/plain": [
       "<Figure size 432x288 with 1 Axes>"
      ]
     },
     "metadata": {
      "needs_background": "light"
     },
     "output_type": "display_data"
    }
   ],
   "source": [
    "plt.hist(stickerList6, bins = 10)\n",
    "plt.xlim(0,20)\n",
    "plt.xlabel(\"number of packs bought to complete the set\")\n",
    "plt.ylabel(\"frequency\");"
   ]
  },
  {
   "cell_type": "markdown",
   "metadata": {
    "id": "sTderQvbphu3"
   },
   "source": [
    "We see the same thing mentioned before, the spread of the obvervations is getting smaller as n increases."
   ]
  },
  {
   "cell_type": "code",
   "execution_count": null,
   "metadata": {
    "id": "VA-3UHddPa8D"
   },
   "outputs": [],
   "source": [
    "error6 = stats.sem(stickerList6)"
   ]
  },
  {
   "cell_type": "code",
   "execution_count": null,
   "metadata": {
    "colab": {
     "base_uri": "https://localhost:8080/",
     "height": 279
    },
    "id": "TOJBWuZbl2sV",
    "outputId": "127f1255-5be9-4f40-a467-5582ac4247c3"
   },
   "outputs": [
    {
     "data": {
      "image/png": "[encoded data removed]",
      "text/plain": [
       "<Figure size 432x288 with 1 Axes>"
      ]
     },
     "metadata": {
      "needs_background": "light"
     },
     "output_type": "display_data"
    }
   ],
   "source": [
    "test_plot6 = get_proportions(stickerList6)\n",
    "plt.plot(test_plot6[:,0],test_plot6[:,1])\n",
    "plt.xlabel(\"packs bought\")\n",
    "plt.ylabel(\"probability of completing the full set\");"
   ]
  },
  {
   "cell_type": "markdown",
   "metadata": {
    "id": "2gh1_MlyqEqO"
   },
   "source": [
    "Probability of completing the set for a given amount of packs bought with packs of size 500"
   ]
  },
  {
   "cell_type": "code",
   "execution_count": null,
   "metadata": {
    "colab": {
     "base_uri": "https://localhost:8080/"
    },
    "id": "NsThJhdFqGSs",
    "outputId": "c17d085a-8c39-4c7c-add4-d6d3396a50fa"
   },
   "outputs": [
    {
     "data": {
      "text/plain": [
       "8"
      ]
     },
     "execution_count": 231,
     "metadata": {},
     "output_type": "execute_result"
    }
   ],
   "source": [
    "find99(test_plot6)"
   ]
  },
  {
   "cell_type": "markdown",
   "metadata": {
    "id": "jMj4bUorqGiz"
   },
   "source": [
    "You need 8 packs to be 99% sure of completing the set with 500 stickers per pack."
   ]
  },
  {
   "cell_type": "markdown",
   "metadata": {
    "id": "a6W43KAPPdxA"
   },
   "source": [
    "# 649 stickers per pack"
   ]
  },
  {
   "cell_type": "markdown",
   "metadata": {
    "id": "pf3C_dY6qN8x"
   },
   "source": [
    "n = 649 is a trivial case. Obviously, if a package has 649 stickers, then you would only need a single package to get the whole collection of stickers. The paper also looked at this case, so we will also for completeness sake."
   ]
  },
  {
   "cell_type": "code",
   "execution_count": null,
   "metadata": {
    "colab": {
     "base_uri": "https://localhost:8080/"
    },
    "id": "41-73xmgPhLc",
    "outputId": "d80f0f79-95aa-49ec-f369-dbea3ca3d4f6"
   },
   "outputs": [
    {
     "name": "stdout",
     "output_type": "stream",
     "text": [
      "75.48822951316833\n"
     ]
    }
   ],
   "source": [
    "startTime = time.time()\n",
    "stickerList7 = [stickers(649,649) for i in range(10000)]\n",
    "endTime = time.time()\n",
    "#print(\"runtime:\", endTime - startTime)\n",
    "runTime7 = endTime - startTime\n",
    "print(runTime7)"
   ]
  },
  {
   "cell_type": "markdown",
   "metadata": {
    "id": "4Gu_UbzIqkw1"
   },
   "source": [
    "It took 75.488s to do 10,000 simulations of n = 649"
   ]
  },
  {
   "cell_type": "code",
   "execution_count": null,
   "metadata": {
    "colab": {
     "base_uri": "https://localhost:8080/"
    },
    "id": "CXnLSQ84PjGA",
    "outputId": "1008b041-3889-444b-9a52-3382904d39c9"
   },
   "outputs": [
    {
     "name": "stdout",
     "output_type": "stream",
     "text": [
      "1.0\n"
     ]
    }
   ],
   "source": [
    "listMean7 = sum(stickerList7)/10000\n",
    "print(listMean7)"
   ]
  },
  {
   "cell_type": "markdown",
   "metadata": {
    "id": "I7VFWMUFqryi"
   },
   "source": [
    "The sample mean is 1.0, as expected"
   ]
  },
  {
   "cell_type": "code",
   "execution_count": null,
   "metadata": {
    "colab": {
     "base_uri": "https://localhost:8080/",
     "height": 279
    },
    "id": "yU8AJqDyPkfm",
    "outputId": "e825cae0-a701-4ca4-ea8c-ede20c6f8e52"
   },
   "outputs": [
    {
     "data": {
      "image/png": "[encoded data removed]",
      "text/plain": [
       "<Figure size 432x288 with 1 Axes>"
      ]
     },
     "metadata": {
      "needs_background": "light"
     },
     "output_type": "display_data"
    }
   ],
   "source": [
    "plt.hist(stickerList7, bins = 5)\n",
    "plt.xlim(0,5)\n",
    "plt.xlabel(\"number of packs bought to complete the set\")\n",
    "plt.ylabel(\"frequency\");"
   ]
  },
  {
   "cell_type": "markdown",
   "metadata": {
    "id": "Uh4uGr6lqvz_"
   },
   "source": [
    "All of the simulations completed the collection with a single pack, as expected."
   ]
  },
  {
   "cell_type": "code",
   "execution_count": null,
   "metadata": {
    "id": "pPfwRgucPloL"
   },
   "outputs": [],
   "source": [
    "error7 = stats.sem(stickerList7)"
   ]
  },
  {
   "cell_type": "code",
   "execution_count": null,
   "metadata": {
    "colab": {
     "base_uri": "https://localhost:8080/",
     "height": 279
    },
    "id": "Kiik9PQKl6JC",
    "outputId": "177e3986-2bcf-4f59-ffb8-2b9a1f709a7a"
   },
   "outputs": [
    {
     "data": {
      "image/png": "[encoded data removed]",
      "text/plain": [
       "<Figure size 432x288 with 1 Axes>"
      ]
     },
     "metadata": {
      "needs_background": "light"
     },
     "output_type": "display_data"
    }
   ],
   "source": [
    "test_plot7 = get_proportions(stickerList7)\n",
    "plt.plot(test_plot7[:,0],test_plot7[:,1])\n",
    "plt.xlabel(\"packs bought\")\n",
    "plt.ylabel(\"probability of completing the full set\");"
   ]
  },
  {
   "cell_type": "code",
   "execution_count": null,
   "metadata": {
    "colab": {
     "base_uri": "https://localhost:8080/"
    },
    "id": "P0DtlbI2qNgW",
    "outputId": "93bd789a-6a65-46a1-bf26-cd64c027d0a9"
   },
   "outputs": [
    {
     "name": "stdout",
     "output_type": "stream",
     "text": [
      "None\n"
     ]
    }
   ],
   "source": [
    "print(find99(test_plot7))"
   ]
  },
  {
   "cell_type": "markdown",
   "metadata": {
    "id": "bZkAtDBEqb8C"
   },
   "source": [
    "You need 1 pack to be 99% sure of completing the set with 649 stickers per pack (not sure why this isn't showing up as such)."
   ]
  },
  {
   "cell_type": "markdown",
   "metadata": {
    "id": "Goua8wvaQ4_z"
   },
   "source": [
    "# Probability Plot"
   ]
  },
  {
   "cell_type": "code",
   "execution_count": null,
   "metadata": {
    "colab": {
     "base_uri": "https://localhost:8080/",
     "height": 279
    },
    "id": "1ZSQJvozQ4AD",
    "outputId": "f661abbd-00fb-4a12-f553-88be3291040f"
   },
   "outputs": [
    {
     "data": {
      "image/png": "[encoded data removed]",
      "text/plain": [
       "<Figure size 432x288 with 1 Axes>"
      ]
     },
     "metadata": {
      "needs_background": "light"
     },
     "output_type": "display_data"
    }
   ],
   "source": [
    "plt.plot(test_plot2[:,0],test_plot2[:,1], label = \"1\")\n",
    "plt.plot(test_plot[:,0],test_plot[:,1], label = \"5\")\n",
    "plt.plot(test_plot3[:,0],test_plot3[:,1], label = \"10\")\n",
    "plt.plot(test_plot4[:,0],test_plot4[:,1], label = \"50\")\n",
    "plt.plot(test_plot5[:,0],test_plot5[:,1], label = \"100\")\n",
    "plt.plot(test_plot6[:,0],test_plot6[:,1], label = \"500\")\n",
    "plt.plot(test_plot7[:,0],test_plot7[:,1], label = \"649\")\n",
    "plt.xlabel(\"packs bought\")\n",
    "plt.ylabel(\"probability of completing the full set\")\n",
    "plt.legend(loc=\"lower right\", title = \"pack size\");"
   ]
  },
  {
   "cell_type": "markdown",
   "metadata": {
    "id": "1XmUYA6Dq5Rc"
   },
   "source": [
    "The plot above shows the probability of completing the collection for x number of packs bought for various packsizes.\n",
    "\n",
    "Like we have mentioned before, as n increases, it becomes easier to complete the whole collection a given number of packs bought. We can also see that as n increases, the curve will make a sharper transition between probabilty of 0 and probabilty of 1. This makes sense, because we saw from the histograms that the spread of the samples got smaller as n increased. A small spread in the histogram corresponds to a sharper transition between probabilty of 0 and probability of 1."
   ]
  },
  {
   "cell_type": "code",
   "execution_count": null,
   "metadata": {
    "id": "0yzv_ltQbpUX"
   },
   "outputs": [],
   "source": [
    "#list to serve as the x values for all the points plotted in the plots below\n",
    "packSizeList = [1,5,10,50,100,500,649]"
   ]
  },
  {
   "cell_type": "markdown",
   "metadata": {
    "id": "eWJYW3CpZ6s1"
   },
   "source": [
    "# How Many Packs on Average to Complete the Set?"
   ]
  },
  {
   "cell_type": "code",
   "execution_count": null,
   "metadata": {
    "colab": {
     "base_uri": "https://localhost:8080/"
    },
    "id": "GbCvOX0OZ_yw",
    "outputId": "6dab9d91-bd50-40fb-f3ba-544ece4b97ae"
   },
   "outputs": [
    {
     "name": "stdout",
     "output_type": "stream",
     "text": [
      "[4585.2128, 916.1791, 455.4349, 88.3635, 42.5329, 5.3163, 1.0]\n"
     ]
    }
   ],
   "source": [
    "packsBoughtList = []\n",
    "packsBoughtList.append(listMean2)\n",
    "packsBoughtList.append(listMean)\n",
    "packsBoughtList.append(listMean3)\n",
    "packsBoughtList.append(listMean4)\n",
    "packsBoughtList.append(listMean5)\n",
    "packsBoughtList.append(listMean6)\n",
    "packsBoughtList.append(listMean7)\n",
    "print(packsBoughtList)"
   ]
  },
  {
   "cell_type": "code",
   "execution_count": null,
   "metadata": {
    "colab": {
     "base_uri": "https://localhost:8080/",
     "height": 279
    },
    "id": "NKeLbxbgbDlg",
    "outputId": "ae5f276f-c13f-447f-f035-57de1fc7aa81"
   },
   "outputs": [
    {
     "data": {
      "image/png": "[encoded data removed]",
      "text/plain": [
       "<Figure size 432x288 with 1 Axes>"
      ]
     },
     "metadata": {
      "needs_background": "light"
     },
     "output_type": "display_data"
    }
   ],
   "source": [
    "plt.plot(packSizeList, packsBoughtList)\n",
    "plt.xlabel(\"stickers per pack\")\n",
    "plt.ylabel(\"average packs needed to complete the set\");"
   ]
  },
  {
   "cell_type": "markdown",
   "metadata": {
    "id": "DMcw0AK3sT7F"
   },
   "source": [
    "Average packs needed to complete the set for a given amount of sticker per pack."
   ]
  },
  {
   "cell_type": "code",
   "execution_count": null,
   "metadata": {
    "colab": {
     "base_uri": "https://localhost:8080/"
    },
    "id": "PSBGDGxnkPwb",
    "outputId": "d9083cc3-9f94-4e8a-b4b7-33a5bfe46529"
   },
   "outputs": [
    {
     "name": "stdout",
     "output_type": "stream",
     "text": [
      "[916.1791, 455.4349, 88.3635, 42.5329, 5.3163, 1.0]\n"
     ]
    }
   ],
   "source": [
    "#list without 1 so trend is clearer (pack size of 1 so much higher than rest of data)\n",
    "packSizeList2 = [5,10,50,100,500,649]\n",
    "packsBoughtList2 = []\n",
    "packsBoughtList2.append(listMean)\n",
    "packsBoughtList2.append(listMean3)\n",
    "packsBoughtList2.append(listMean4)\n",
    "packsBoughtList2.append(listMean5)\n",
    "packsBoughtList2.append(listMean6)\n",
    "packsBoughtList2.append(listMean7)\n",
    "print(packsBoughtList2)"
   ]
  },
  {
   "cell_type": "code",
   "execution_count": null,
   "metadata": {
    "colab": {
     "base_uri": "https://localhost:8080/",
     "height": 279
    },
    "id": "PH48zQBGkgP3",
    "outputId": "ed778478-1b41-4123-ca92-c9c8874d9d83"
   },
   "outputs": [
    {
     "data": {
      "image/png": "[encoded data removed]",
      "text/plain": [
       "<Figure size 432x288 with 1 Axes>"
      ]
     },
     "metadata": {
      "needs_background": "light"
     },
     "output_type": "display_data"
    }
   ],
   "source": [
    "#zoom in on section of plot where most of the change is happening\n",
    "plt.plot(packSizeList2, packsBoughtList2)\n",
    "plt.xlim(0,150)\n",
    "plt.xlabel(\"stickers per pack\")\n",
    "plt.ylabel(\"average packs needed to complete the set\");"
   ]
  },
  {
   "cell_type": "markdown",
   "metadata": {
    "id": "xUVB4RBgsfvZ"
   },
   "source": [
    "Same plot as before, excuding the first point to see the trend better."
   ]
  },
  {
   "cell_type": "markdown",
   "metadata": {
    "id": "s3J5EprCU_4o"
   },
   "source": [
    "# Runtime Analysis - How Long Does it Take to Run 10,000 Monte Carlo Simulations for Different Pack Sizes?"
   ]
  },
  {
   "cell_type": "code",
   "execution_count": null,
   "metadata": {
    "colab": {
     "base_uri": "https://localhost:8080/"
    },
    "id": "J38_fHW_VDHl",
    "outputId": "50cfe299-bef4-418a-b911-ef70d5eee571"
   },
   "outputs": [
    {
     "name": "stdout",
     "output_type": "stream",
     "text": [
      "[841.77573, 423.47702, 399.72712, 308.2771, 349.13524, 203.04116, 75.48823]\n"
     ]
    }
   ],
   "source": [
    "runTimeList = []\n",
    "runTimeList.append(round(runTime2,5))\n",
    "runTimeList.append(round(runTime,5))\n",
    "runTimeList.append(round(runTime3,5))\n",
    "runTimeList.append(round(runTime4,5))\n",
    "runTimeList.append(round(runTime5,5))\n",
    "runTimeList.append(round(runTime6,5))\n",
    "runTimeList.append(round(runTime7,5))\n",
    "print(runTimeList)"
   ]
  },
  {
   "cell_type": "markdown",
   "metadata": {
    "id": "p0kR6mtB4heE"
   },
   "source": [
    "The above list shows the associated runtimes for each successive n value we tested."
   ]
  },
  {
   "cell_type": "code",
   "execution_count": null,
   "metadata": {
    "colab": {
     "base_uri": "https://localhost:8080/",
     "height": 279
    },
    "id": "4WdhG_RbW9Dr",
    "outputId": "6339fc43-051f-4d17-acfd-f3af415cf1f5"
   },
   "outputs": [
    {
     "data": {
      "image/png": "[encoded data removed]",
      "text/plain": [
       "<Figure size 432x288 with 1 Axes>"
      ]
     },
     "metadata": {
      "needs_background": "light"
     },
     "output_type": "display_data"
    }
   ],
   "source": [
    "plt.plot(packSizeList, runTimeList)\n",
    "plt.xlabel(\"stickers per pack\")\n",
    "plt.ylabel(\"runtime (seconds)\");"
   ]
  },
  {
   "cell_type": "markdown",
   "metadata": {
    "id": "IwKdu90Jsqg8"
   },
   "source": [
    "Relationship of runtime and stickers per pack. Note there appears to be a slight outlier for the n = 50 point, where the runtime is 308.2771 seconds, when based on the trend it should be around 370/380 seconds. This is represented visually by the dip in the plot at x = 50."
   ]
  },
  {
   "cell_type": "markdown",
   "metadata": {
    "id": "ItrU9Cs2Wu5E"
   },
   "source": [
    "# Standard Error Analysis"
   ]
  },
  {
   "cell_type": "code",
   "execution_count": null,
   "metadata": {
    "colab": {
     "base_uri": "https://localhost:8080/"
    },
    "id": "rmSVwCYBWsbI",
    "outputId": "fdbfc244-1781-4096-d4d6-99f2359b065b"
   },
   "outputs": [
    {
     "name": "stdout",
     "output_type": "stream",
     "text": [
      "[8.35813, 1.66933, 0.81337, 0.1585, 0.07505, 0.00921, 0.0]\n"
     ]
    }
   ],
   "source": [
    "errorList = []\n",
    "errorList.append(round(error2,5))\n",
    "errorList.append(round(error1,5))\n",
    "errorList.append(round(error3,5))\n",
    "errorList.append(round(error4,5))\n",
    "errorList.append(round(error5,5))\n",
    "errorList.append(round(error6,5))\n",
    "errorList.append(round(error7,5))\n",
    "print(errorList)"
   ]
  },
  {
   "cell_type": "markdown",
   "metadata": {
    "id": "5Q4ilUUM4ngZ"
   },
   "source": [
    "The above list shows the associated standard errors for each successive n value we tested."
   ]
  },
  {
   "cell_type": "code",
   "execution_count": null,
   "metadata": {
    "colab": {
     "base_uri": "https://localhost:8080/",
     "height": 279
    },
    "id": "hcMn53BFW_tR",
    "outputId": "7b8fcbce-7d8b-4e53-a416-2aefc0e7c7ee"
   },
   "outputs": [
    {
     "data": {
      "image/png": "[encoded data removed]",
      "text/plain": [
       "<Figure size 432x288 with 1 Axes>"
      ]
     },
     "metadata": {
      "needs_background": "light"
     },
     "output_type": "display_data"
    }
   ],
   "source": [
    "plt.plot(packSizeList, errorList)\n",
    "plt.xlabel(\"stickers per pack\")\n",
    "plt.ylabel(\"standard error\");"
   ]
  },
  {
   "cell_type": "code",
   "execution_count": null,
   "metadata": {
    "colab": {
     "base_uri": "https://localhost:8080/"
    },
    "id": "SjyHYurykoIz",
    "outputId": "932d2c90-1920-480a-d938-d37240e5ba81"
   },
   "outputs": [
    {
     "name": "stdout",
     "output_type": "stream",
     "text": [
      "[1.66933, 0.81337, 0.1585, 0.07505, 0.00921, 0.0]\n"
     ]
    }
   ],
   "source": [
    "#list without 1 so trend is clearer (pack size of 1 so much higher than rest of data)\n",
    "errorList2 = []\n",
    "errorList2.append(round(error1,5))\n",
    "errorList2.append(round(error3,5))\n",
    "errorList2.append(round(error4,5))\n",
    "errorList2.append(round(error5,5))\n",
    "errorList2.append(round(error6,5))\n",
    "errorList2.append(round(error7,5))\n",
    "print(errorList2)"
   ]
  },
  {
   "cell_type": "code",
   "execution_count": null,
   "metadata": {
    "colab": {
     "base_uri": "https://localhost:8080/",
     "height": 283
    },
    "id": "gLNcXOeukt5u",
    "outputId": "368ac6e1-0cd9-41bc-fcf3-6dda92c696a0"
   },
   "outputs": [
    {
     "data": {
      "image/png": "[encoded data removed]",
      "text/plain": [
       "<Figure size 432x288 with 1 Axes>"
      ]
     },
     "metadata": {
      "needs_background": "light"
     },
     "output_type": "display_data"
    }
   ],
   "source": [
    "#zoom in on section of plot where most of the change is happening\n",
    "plt.plot(packSizeList2, errorList2)\n",
    "plt.xlim(0,150)\n",
    "plt.xlabel(\"stickers per pack\")\n",
    "plt.ylabel(\"standard error\");"
   ]
  },
  {
   "cell_type": "markdown",
   "metadata": {
    "id": "GtCeS059ioAr"
   },
   "source": [
    "The larger the pack size is, the more accurate our approximation is of the true mean. This culminates with the pack size of 649, where, given that packs cannot have duplicate stickers, will give you the full set in 1 pack exactly every single time. Our sample means for the smaller pack sizes are a bit further away from the true population expected packs needed."
   ]
  },
  {
   "cell_type": "markdown",
   "metadata": {
    "id": "kVfSBfNstoBS"
   },
   "source": [
    "Our findings can be summarized with a single table:\n",
    "\n",
    "![unnamed.png](data:image/png;base64,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)"
   ]
  },
  {
   "cell_type": "markdown",
   "metadata": {
    "id": "jTtmdt4FuHN-"
   },
   "source": [
    "This can be compared to the table in the paper by Diniz et al\n",
    "\n",
    "![paperpic.PNG](data:image/png;base64,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)"
   ]
  },
  {
   "cell_type": "markdown",
   "metadata": {
    "id": "WsbBnCWcucRy"
   },
   "source": [
    "The table from the paper compared the average number of packs needed to complete the collection for various pack sizes. They included both an exact analytical answer and an answer from their Monte Carlo Simulation.\n",
    "\n",
    "Comparing some of our values to theirs, we can confidently say we recreated their data quite well. For n = 1, 5, 10 , 100, and 500, the value we obtained from our Monte Carlo Simulation was within a standard error of the exact value."
   ]
  },
  {
   "cell_type": "markdown",
   "metadata": {
    "id": "orS6uxnBvisN"
   },
   "source": [
    "# Possible Next Steps"
   ]
  },
  {
   "cell_type": "markdown",
   "metadata": {
    "id": "uNf2mDAQvoGW"
   },
   "source": [
    "If we had more time with this project, here are some other things we could investigate:\n",
    "\n",
    "* What kind of trends do we see when we keep n fixed but change M, number of \n",
    "stickers in the whole collection?\n",
    "* What if you were interested in getting multiple copies of the same sticker?\n",
    "* Explore other Monte Carlo Simulations for optimization or numerical integration\n",
    "*   Ways to optimize our functions - can we improve run time, create larger lists for better accuracy?\n"
   ]
  }
 ],
 "metadata": {
  "colab": {
   "name": "Modern Comp Final Project - Alexander/Samip.ipynb",
   "provenance": []
  },
  "kernelspec": {
   "display_name": "Python 3 (ipykernel)",
   "language": "python",
   "name": "python3"
  },
  "language_info": {
   "codemirror_mode": {
    "name": "ipython",
    "version": 3
   },
   "file_extension": ".py",
   "mimetype": "text/x-python",
   "name": "python",
   "nbconvert_exporter": "python",
   "pygments_lexer": "ipython3",
   "version": "3.9.18"
  },
  "varInspector": {
   "cols": {
    "lenName": 16,
    "lenType": 16,
    "lenVar": 40
   },
   "kernels_config": {
    "python": {
     "delete_cmd_postfix": "",
     "delete_cmd_prefix": "del ",
     "library": "var_list.py",
     "varRefreshCmd": "print(var_dic_list())"
    },
    "r": {
     "delete_cmd_postfix": ") ",
     "delete_cmd_prefix": "rm(",
     "library": "var_list.r",
     "varRefreshCmd": "cat(var_dic_list()) "
    }
   },
   "types_to_exclude": [
    "module",
    "function",
    "builtin_function_or_method",
    "instance",
    "_Feature"
   ],
   "window_display": false
  }
 },
 "nbformat": 4,
 "nbformat_minor": 1
}
