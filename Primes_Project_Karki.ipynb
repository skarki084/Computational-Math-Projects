{
  "nbformat": 4,
  "nbformat_minor": 0,
  "metadata": {
    "colab": {
      "name": "Primes Project Karki",
      "provenance": [],
      "collapsed_sections": [],
      "include_colab_link": true
    },
    "kernelspec": {
      "name": "python3",
      "display_name": "Python 3"
    },
    "language_info": {
      "name": "python"
    }
  },
  "cells": [
    {
      "cell_type": "markdown",
      "metadata": {
        "id": "view-in-github",
        "colab_type": "text"
      },
      "source": [
        "<a href=\"https://colab.research.google.com/github/skarki084/Computational-Math-Projects/blob/main/Primes_Project_Karki.ipynb\" target=\"_parent\"><img src=\"https://colab.research.google.com/assets/colab-badge.svg\" alt=\"Open In Colab\"/></a>"
      ]
    },
    {
      "cell_type": "markdown",
      "source": [
        "Part 1)\n",
        "\n",
        "  Implement the Sieve of Sundaram:\n",
        "\n",
        "\n",
        "  Algorithm:\n",
        "\n",
        "  Input: positive integer n\n",
        "\n",
        "\n",
        "\n",
        "*   $m = Floor \\left( \\frac{n-1}{2}\\right)$\n",
        "*   a list nums = [1,2,3,...m]\n",
        "*   index $i = 1$\n",
        "\n",
        "\n",
        "Repeat while $2i + 2i^2 \\leq m$:\n",
        "\n",
        "*   Let j = i\n",
        "*   Repeat: while $ w = i + j + 2ij \\leq m:\n",
        "          - if w is in nums, then remove w from nums\n",
        "          - Set j = j + 1\n",
        "      \n",
        "*   Set i = i + 1\n",
        "\n",
        "Return list of values $2b + 1$ for each b in nums\n",
        "\n",
        "\n",
        "\n",
        "\n"
      ],
      "metadata": {
        "id": "gwDyB4SmBR-5"
      }
    },
    {
      "cell_type": "code",
      "execution_count": null,
      "metadata": {
        "id": "NZptjJWrBNWO"
      },
      "outputs": [],
      "source": [
        "import math   # for sqrt and other math functions\n",
        "import time   # for runtime analysis\n",
        "import matplotlib.pyplot as plt  # for plotting\n",
        "import random"
      ]
    },
    {
      "cell_type": "code",
      "source": [
        "def sieve_sun(n):\n",
        "  m = math.floor((n-1)/2)\n",
        "  nums = list(range(1, m+1))\n",
        "  i = 1\n",
        "\n",
        "  while 2*i + 2*(i**2) <= m:\n",
        "    j = i\n",
        "    while i + j + 2*i*j <= m:\n",
        "      if i + j + 2 *i*j in nums: #this checks if w is in nums\n",
        "        nums[i + j + 2*i*j - 1]=0\n",
        "      j = j + 1\n",
        "    i = i + 1\n",
        "\n",
        "  last_list=[2*b+1 for b in nums if b !=0] # add 2b+1 into this list if b is not 0\n",
        "\n",
        "  return last_list"
      ],
      "metadata": {
        "id": "2wKEIWxUEGzJ"
      },
      "execution_count": null,
      "outputs": []
    },
    {
      "cell_type": "code",
      "source": [
        "sieve_sun(100)"
      ],
      "metadata": {
        "colab": {
          "base_uri": "https://localhost:8080/"
        },
        "id": "Cfikq8L-Ef3f",
        "outputId": "2fb33351-faa3-4fa7-dbd6-2900355d69b9"
      },
      "execution_count": null,
      "outputs": [
        {
          "output_type": "execute_result",
          "data": {
            "text/plain": [
              "[3,\n",
              " 5,\n",
              " 7,\n",
              " 11,\n",
              " 13,\n",
              " 17,\n",
              " 19,\n",
              " 23,\n",
              " 29,\n",
              " 31,\n",
              " 37,\n",
              " 41,\n",
              " 43,\n",
              " 47,\n",
              " 53,\n",
              " 59,\n",
              " 61,\n",
              " 67,\n",
              " 71,\n",
              " 73,\n",
              " 79,\n",
              " 83,\n",
              " 89,\n",
              " 97]"
            ]
          },
          "metadata": {},
          "execution_count": 33
        }
      ]
    },
    {
      "cell_type": "code",
      "source": [
        ""
      ],
      "metadata": {
        "id": "z5uCP2K6t3QI"
      },
      "execution_count": null,
      "outputs": []
    },
    {
      "cell_type": "markdown",
      "source": [
        "Looks like the Sieve of Sundaram is implemented properly!\n",
        "\n",
        "\n",
        "\n",
        "Now to compare the runtimes between the Sieve of Sundaram and Sieve of Eratosthenes"
      ],
      "metadata": {
        "id": "_-jVZjXhsdJD"
      }
    },
    {
      "cell_type": "code",
      "source": [
        "def eratos(nMax):\n",
        "  # start with a list 2, 3, 4, ..., nMax\n",
        "  nums = list(range(2,nMax+1))\n",
        "\n",
        "  i = 0 # index of smallest item in nums\n",
        "  while nums[i] <= math.sqrt(nMax):\n",
        "    # nums[i] is prime, so remove its multiples\n",
        "\n",
        "    j = i+1 # the index of the number after nums[i]\n",
        "    while j < len(nums):\n",
        "      # if nums[j] is a multiple of nums[i], then remove nums[j]\n",
        "      if nums[j] % nums[i] == 0:\n",
        "        nums.pop(j)\n",
        "      else:\n",
        "        j += 1\n",
        "\n",
        "    i += 1  # go to the next smallest item in nums\n",
        "\n",
        "  # return the list of primes\n",
        "  return nums"
      ],
      "metadata": {
        "id": "a4J_We-XsbvP"
      },
      "execution_count": null,
      "outputs": []
    },
    {
      "cell_type": "code",
      "source": [
        "def eratos_runtime(nMax):\n",
        "  startTime = time.time()\n",
        "  eratos(nMax)\n",
        "  endTime = time.time()\n",
        "  #print(\"runtime:\", endTime - startTime)\n",
        "  return endTime - startTime\n",
        "\n",
        "def sunda_runtime(nMax):\n",
        "  startTime = time.time()\n",
        "  sieve_sun(nMax)\n",
        "  endTime = time.time()\n",
        "  #print(\"runtime:\", endTime - startTime)\n",
        "  return endTime - startTime"
      ],
      "metadata": {
        "id": "FWBgJ1mos75S"
      },
      "execution_count": null,
      "outputs": []
    },
    {
      "cell_type": "code",
      "source": [
        "eratos_runtime(100)"
      ],
      "metadata": {
        "colab": {
          "base_uri": "https://localhost:8080/"
        },
        "id": "hriiFcT8th5A",
        "outputId": "7f537c96-df86-4075-f5a7-8a51732ce029"
      },
      "execution_count": null,
      "outputs": [
        {
          "output_type": "execute_result",
          "data": {
            "text/plain": [
              "9.489059448242188e-05"
            ]
          },
          "metadata": {},
          "execution_count": 36
        }
      ]
    },
    {
      "cell_type": "code",
      "source": [
        "sunda_runtime(100)"
      ],
      "metadata": {
        "colab": {
          "base_uri": "https://localhost:8080/"
        },
        "id": "LZbh9YHatlQr",
        "outputId": "346e04ec-eeb1-47af-9e49-370167dce928"
      },
      "execution_count": null,
      "outputs": [
        {
          "output_type": "execute_result",
          "data": {
            "text/plain": [
              "5.269050598144531e-05"
            ]
          },
          "metadata": {},
          "execution_count": 37
        }
      ]
    },
    {
      "cell_type": "code",
      "source": [
        "eratos_runtime(10**4)"
      ],
      "metadata": {
        "colab": {
          "base_uri": "https://localhost:8080/"
        },
        "id": "Jngm5ACZwD9C",
        "outputId": "1245ed83-1b18-47d0-bbd7-6c6afd15c93b"
      },
      "execution_count": null,
      "outputs": [
        {
          "output_type": "execute_result",
          "data": {
            "text/plain": [
              "0.016271591186523438"
            ]
          },
          "metadata": {},
          "execution_count": 38
        }
      ]
    },
    {
      "cell_type": "code",
      "source": [
        "sunda_runtime(10**4)"
      ],
      "metadata": {
        "colab": {
          "base_uri": "https://localhost:8080/"
        },
        "id": "0Qg64SQUwcjz",
        "outputId": "44cd7e2d-0b3a-4681-c9b9-4094dc62591d"
      },
      "execution_count": null,
      "outputs": [
        {
          "output_type": "execute_result",
          "data": {
            "text/plain": [
              "0.4978656768798828"
            ]
          },
          "metadata": {},
          "execution_count": 39
        }
      ]
    },
    {
      "cell_type": "code",
      "source": [
        "eratos_times = [eratos_runtime(n) for n in range(2,1000)]"
      ],
      "metadata": {
        "id": "zhyP3PJEP8g0"
      },
      "execution_count": null,
      "outputs": []
    },
    {
      "cell_type": "code",
      "source": [
        "sun_times = [sunda_runtime(n) for n in range(2,1000)]"
      ],
      "metadata": {
        "id": "XLD0a1xFQoZh"
      },
      "execution_count": null,
      "outputs": []
    },
    {
      "cell_type": "code",
      "source": [
        "plt.plot(eratos_times, 'g.', label = \"Eratosthenes\")\n",
        "plt.plot(sun_times, 'r.', label = \"Sundaram\")\n",
        "plt.xlabel(\"n\")\n",
        "plt.ylabel(\"time(s)\")\n",
        "plt.legend(loc = \"upper right\")"
      ],
      "metadata": {
        "colab": {
          "base_uri": "https://localhost:8080/",
          "height": 296
        },
        "id": "x9yDCW1QRJEJ",
        "outputId": "891992fa-dba7-4be6-f103-c84c4c870014"
      },
      "execution_count": null,
      "outputs": [
        {
          "output_type": "execute_result",
          "data": {
            "text/plain": [
              "<matplotlib.legend.Legend at 0x7f1b73f16e90>"
            ]
          },
          "metadata": {},
          "execution_count": 42
        },
        {
          "output_type": "display_data",
          "data": {
            "text/plain": [
              "<Figure size 432x288 with 1 Axes>"
            ],
            "image/png": "[encoded data removed]"
          },
          "metadata": {
            "needs_background": "light"
          }
        }
      ]
    },
    {
      "cell_type": "markdown",
      "source": [
        "Looking at the plot above, we can see that the run time for each algorithm is similar up to n = 300. After this, the run time for Sundaram grows much faster. Eratosthenes is clearly the more efficient. I tried doing this analysis for n up to 1000, but the run times for Sundaram were so large that you could not see any change in the values of Eratosthenes."
      ],
      "metadata": {
        "id": "8Cft_WfyYaZR"
      }
    },
    {
      "cell_type": "code",
      "source": [
        ""
      ],
      "metadata": {
        "id": "42ijze9paArH"
      },
      "execution_count": null,
      "outputs": []
    },
    {
      "cell_type": "markdown",
      "source": [
        "Conjecture A:\n",
        "\n",
        "Every even integer greater than 2 is the sum of two primes.\n",
        "\n",
        "\n",
        "Testing the truth of this below:\n"
      ],
      "metadata": {
        "id": "3zZjfdteaBww"
      }
    },
    {
      "cell_type": "markdown",
      "source": [
        "The code below has two indexes looping over the prime values. A list of integers is made. The two prime values are added together. Then I take that value out of the list of integers by changing it to 0. If this Conjecture is true, then I should just have a list of 0's by the end of this. "
      ],
      "metadata": {
        "id": "Ef4J-LXDcQvw"
      }
    },
    {
      "cell_type": "code",
      "source": [
        "list_primes = eratos(10000)\n",
        "list_ints = list(range(4,10000,2)) #list of only even integers\n",
        "for i in list_primes:#looping over both indexes\n",
        "  for j in list_primes:\n",
        "    sum = i + j\n",
        "    if sum in list_ints: #checking if the sum is in list_int (in case it is already 0)\n",
        "      num_index = list_ints.index(sum)\n",
        "      list_ints[num_index] =0  #turn the sum into 0\n",
        "\n",
        "list_ints.count(0)== len(list_ints) # checks if every item in list_ints is 0, which mean the conjecture holds for that number"
      ],
      "metadata": {
        "colab": {
          "base_uri": "https://localhost:8080/"
        },
        "id": "GIUBOCOoaJFz",
        "outputId": "656cbd26-8180-4a23-fde9-8a94a92f9bff"
      },
      "execution_count": null,
      "outputs": [
        {
          "output_type": "execute_result",
          "data": {
            "text/plain": [
              "True"
            ]
          },
          "metadata": {},
          "execution_count": 60
        }
      ]
    },
    {
      "cell_type": "markdown",
      "source": [
        "**All even integers from 4 to 10,000 follow the conjecture. I stopped at 10,000 because this already took a couple minutes to compute. The conjecutre holds so far!**"
      ],
      "metadata": {
        "id": "Bjf3QxYnqO_H"
      }
    },
    {
      "cell_type": "markdown",
      "source": [
        "\n",
        "\n",
        "---\n",
        "\n"
      ],
      "metadata": {
        "id": "Yi3ZNQq5dLab"
      }
    },
    {
      "cell_type": "markdown",
      "source": [
        "Conjecture D:\n",
        "\n",
        "All odd numbers greater than 1 are either prime, or can be expressed as the\n",
        "sum of a prime and twice a square.\n",
        "\n",
        "\n",
        "This is how I will test this conjecture:\n",
        "\n",
        "I will get a list of odd integers, and turn the primes to 0's. I will then loop over a list of the twice squares and the list of primes. I will consider the sum of a twice square and prime. If this number is in the list of odds, I will turn it to 0. If this conjecture is true, my list of odds will only be 0's."
      ],
      "metadata": {
        "id": "hSUe015XgfMz"
      }
    },
    {
      "cell_type": "code",
      "source": [
        "prime_list = eratos(50)\n",
        "odds_list = list(range(3,50+1,2))\n",
        "\n",
        "for i in range(len(odds_list)): # make primes 0\n",
        "  if prime_list.count(odds_list[i])==1:\n",
        "    odds_list[i]=0\n",
        "\n",
        "twice_squares = [2*n**2 for n in range(1, math.ceil(math.sqrt(50/2))**2)] # the range for this doesnt really matter, as long as its long enough, right now it is actually too long\n",
        "\n",
        "for i in twice_squares: \n",
        "  for j in prime_list:\n",
        "    sum = i + j\n",
        "    if odds_list.count(sum)==1: # if the sum of twice_square and prime are in odds_list, make that entry 0\n",
        "      num_index = odds_list.index(sum)\n",
        "      odds_list[num_index] =0  #turn the sum into 0\n",
        "\n",
        "odds_list"
      ],
      "metadata": {
        "colab": {
          "base_uri": "https://localhost:8080/"
        },
        "id": "O-2e-FUOdjw5",
        "outputId": "2578f8e0-6167-4662-dd73-2e0b5f44492b"
      },
      "execution_count": null,
      "outputs": [
        {
          "output_type": "execute_result",
          "data": {
            "text/plain": [
              "[0, 0, 0, 0, 0, 0, 0, 0, 0, 0, 0, 0, 0, 0, 0, 0, 0, 0, 0, 0, 0, 0, 0, 0]"
            ]
          },
          "metadata": {},
          "execution_count": 76
        }
      ]
    },
    {
      "cell_type": "markdown",
      "source": [
        "The conjecture is true up to 50!"
      ],
      "metadata": {
        "id": "sYaXlw1VlMTA"
      }
    },
    {
      "cell_type": "code",
      "source": [
        "def check_conjecture_d(nMax):\n",
        "  prime_list = eratos(nMax)\n",
        "  odds_list = list(range(3,nMax + 1,2))\n",
        "\n",
        "  for i in range(len(odds_list)):\n",
        "    if prime_list.count(odds_list[i])==1:\n",
        "      odds_list[i]=0\n",
        "\n",
        "  twice_squares = [2*n**2 for n in range(1, math.ceil(math.sqrt(nMax/2))**2)]\n",
        "\n",
        "  for i in twice_squares:\n",
        "    for j in prime_list:\n",
        "      sum = i + j\n",
        "      if odds_list.count(sum)==1:\n",
        "        num_index = odds_list.index(sum)\n",
        "        odds_list[num_index] =0  #turn the sum into 0\n",
        "\n",
        "  return odds_list"
      ],
      "metadata": {
        "id": "afUVz9vKhkyS"
      },
      "execution_count": null,
      "outputs": []
    },
    {
      "cell_type": "markdown",
      "source": [
        "I made the code into a function to see if the conjecture holds true for more odd values."
      ],
      "metadata": {
        "id": "s_udSVb8lPhr"
      }
    },
    {
      "cell_type": "code",
      "source": [
        "up_to_1000= check_conjecture_d(1000)\n",
        "\n",
        "up_to_1000.count(0)"
      ],
      "metadata": {
        "colab": {
          "base_uri": "https://localhost:8080/"
        },
        "id": "EOtRaePylPQ2",
        "outputId": "b4bb1d11-b173-4be0-ee1f-b485f7ce0a7a"
      },
      "execution_count": null,
      "outputs": [
        {
          "output_type": "execute_result",
          "data": {
            "text/plain": [
              "499"
            ]
          },
          "metadata": {},
          "execution_count": 80
        }
      ]
    },
    {
      "cell_type": "markdown",
      "source": [
        "There were 499 odds in the list and now they are all 0, which means the conjecture holds up to n = 1000"
      ],
      "metadata": {
        "id": "XgOokQGflu1L"
      }
    },
    {
      "cell_type": "code",
      "source": [
        "up_to_10000= check_conjecture_d(10000)\n",
        "\n",
        "up_to_10000.count(0)"
      ],
      "metadata": {
        "colab": {
          "base_uri": "https://localhost:8080/"
        },
        "id": "XTfd_8Kfl_P8",
        "outputId": "be3cc7ba-c7ce-4480-9af3-1833fb010089"
      },
      "execution_count": null,
      "outputs": [
        {
          "output_type": "execute_result",
          "data": {
            "text/plain": [
              "4997"
            ]
          },
          "metadata": {},
          "execution_count": 82
        }
      ]
    },
    {
      "cell_type": "markdown",
      "source": [
        "It looks like there are two numbers in this list that are not odd or a sum of a prime and twice of a cube."
      ],
      "metadata": {
        "id": "bUXXt4iNtP2I"
      }
    },
    {
      "cell_type": "code",
      "source": [
        "for i in up_to_10000:\n",
        "  if i!=0:\n",
        "    print (i)"
      ],
      "metadata": {
        "colab": {
          "base_uri": "https://localhost:8080/"
        },
        "id": "nFb4ZwNpsylR",
        "outputId": "325af4e4-2033-4813-f534-bcafc924ba0f"
      },
      "execution_count": null,
      "outputs": [
        {
          "output_type": "stream",
          "name": "stdout",
          "text": [
            "5777\n",
            "5993\n"
          ]
        }
      ]
    },
    {
      "cell_type": "markdown",
      "source": [
        "**5777 and 5993 are not prime or twice of a cube. This shows that Conjecture D is FALSE!** "
      ],
      "metadata": {
        "id": "RXdZZqZKtbVI"
      }
    },
    {
      "cell_type": "code",
      "source": [
        ""
      ],
      "metadata": {
        "id": "G_THMWgtta0h"
      },
      "execution_count": null,
      "outputs": []
    },
    {
      "cell_type": "markdown",
      "source": [
        "Conjecture C:\n",
        "\n",
        "For every positive integer n, there exists at least one prime between n^2 and (n + 1)^2\n",
        "\n",
        "\n",
        "Let's see if this conjecture is true:"
      ],
      "metadata": {
        "id": "eU5XbhYGuoGD"
      }
    },
    {
      "cell_type": "code",
      "source": [
        "big_primes_list = eratos(10**6)\n"
      ],
      "metadata": {
        "id": "ZtZRIUyEu2T7"
      },
      "execution_count": null,
      "outputs": []
    },
    {
      "cell_type": "markdown",
      "source": [
        "Testing if the code works below.\n",
        "For a given n, I am checking if the numbers between n^2 and (n+1)^2 are present in big_primes_list. If so I print True. If i go through all the numbers between that interval, I will print false.\n"
      ],
      "metadata": {
        "id": "Zu9rkUF40vfQ"
      }
    },
    {
      "cell_type": "code",
      "source": [
        "n = 50\n",
        "lower = n**2\n",
        "upper = (n+1)**2\n",
        "for i in range(lower, upper+1):\n",
        "  if big_primes_list.count(i)>0:\n",
        "    print(\"prime\",i,\" is in between\",lower, \"and\", upper)\n",
        "    break"
      ],
      "metadata": {
        "colab": {
          "base_uri": "https://localhost:8080/"
        },
        "id": "Zn-e02bmwm8t",
        "outputId": "cc2de804-5d9e-4d14-a8e8-9e04c2ab70ca"
      },
      "execution_count": null,
      "outputs": [
        {
          "output_type": "stream",
          "name": "stdout",
          "text": [
            "prime 2503  is in between 2500 and 2601\n"
          ]
        }
      ]
    },
    {
      "cell_type": "code",
      "source": [
        "def check_conjecture_c (n):\n",
        "  lower = n**2\n",
        "  upper = (n+1)**2\n",
        "  for i in range(lower, upper+1):\n",
        "    if big_primes_list.count(i)>0:\n",
        "      return True\n",
        "      break\n",
        "\n",
        "  return False\n"
      ],
      "metadata": {
        "id": "O3MTQ8-2x04q"
      },
      "execution_count": null,
      "outputs": []
    },
    {
      "cell_type": "markdown",
      "source": [
        "The code above gives True or False for the conjecture for a given n. I can loop over a range of n's to see if there are any falses."
      ],
      "metadata": {
        "id": "bhSciinI1LfC"
      }
    },
    {
      "cell_type": "code",
      "source": [
        "check_conjecture_c(3)"
      ],
      "metadata": {
        "colab": {
          "base_uri": "https://localhost:8080/"
        },
        "id": "Uc7iYn3WzjV0",
        "outputId": "8a2fbb36-1259-41c3-e317-2a06e177e4ba"
      },
      "execution_count": null,
      "outputs": [
        {
          "output_type": "execute_result",
          "data": {
            "text/plain": [
              "True"
            ]
          },
          "metadata": {},
          "execution_count": 108
        }
      ]
    },
    {
      "cell_type": "code",
      "source": [
        "list_of_checks = [check_conjecture_c(h) for h in range(1,1000)]\n",
        "list_of_checks.count(False)"
      ],
      "metadata": {
        "colab": {
          "base_uri": "https://localhost:8080/"
        },
        "id": "xtEePVlD1TgZ",
        "outputId": "5058e51e-80d6-4db8-d16d-50d4e49a81ed"
      },
      "execution_count": null,
      "outputs": [
        {
          "output_type": "execute_result",
          "data": {
            "text/plain": [
              "0"
            ]
          },
          "metadata": {},
          "execution_count": 113
        }
      ]
    },
    {
      "cell_type": "markdown",
      "source": [
        "**Integers n from 1 to 1000 satisfy the conjecture. If I try a bigger range of n values, the computation takes much too long (I tried up to n = 5000, but my code was still running after 30 mins). As far as I know, this conjecture may be true, because I do not have any evidence to say otherwise. Considering as n gets bigger, the range of values that we are searching for primes also increases, I believe this conjecture is true!**"
      ],
      "metadata": {
        "id": "LwvFvy_u_KwE"
      }
    },
    {
      "cell_type": "code",
      "source": [
        ""
      ],
      "metadata": {
        "id": "UoV7ykVpAnFu"
      },
      "execution_count": null,
      "outputs": []
    }
  ]
}